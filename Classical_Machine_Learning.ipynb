{
  "nbformat": 4,
  "nbformat_minor": 0,
  "metadata": {
    "colab": {
      "name": "Classical-Machine-Learning.ipynb",
      "version": "0.3.2",
      "provenance": [],
      "machine_shape": "hm"
    },
    "kernelspec": {
      "name": "python3",
      "display_name": "Python 3"
    },
    "accelerator": "GPU"
  },
  "cells": [
    {
      "cell_type": "code",
      "metadata": {
        "id": "m4AD8XM9wbRZ",
        "colab_type": "code",
        "colab": {}
      },
      "source": [
        "import numpy as np\n",
        "import pandas as pd\n",
        "from sklearn.feature_extraction.text import CountVectorizer\n",
        "from sklearn.feature_extraction.text import TfidfTransformer\n",
        "import os\n",
        "from sklearn.naive_bayes import MultinomialNB"
      ],
      "execution_count": 0,
      "outputs": []
    },
    {
      "cell_type": "code",
      "metadata": {
        "id": "OOC2mX79x6dC",
        "colab_type": "code",
        "colab": {
          "base_uri": "https://localhost:8080/",
          "height": 34
        },
        "outputId": "caed207c-3eba-4497-8a7b-f3c224a394c4"
      },
      "source": [
        "!git clone https://github.com/Tariq60/LIAR-PLUS.git"
      ],
      "execution_count": 234,
      "outputs": [
        {
          "output_type": "stream",
          "text": [
            "fatal: destination path 'LIAR-PLUS' already exists and is not an empty directory.\n"
          ],
          "name": "stdout"
        }
      ]
    },
    {
      "cell_type": "markdown",
      "metadata": {
        "id": "J9T46Vttb9aM",
        "colab_type": "text"
      },
      "source": [
        "###Binary Classification using Logistic Regression , Naive Bayes and SVM on only statement"
      ]
    },
    {
      "cell_type": "code",
      "metadata": {
        "id": "5bC9laffyVpB",
        "colab_type": "code",
        "colab": {}
      },
      "source": [
        "df = pd.read_csv(os.getcwd()+'/LIAR-PLUS'+'/dataset'+'/train2.tsv' , sep = '\\t' , header = None)\n",
        "df_val = pd.read_csv(os.getcwd()+'/LIAR-PLUS'+'/dataset'+'/val2.tsv' , sep = '\\t' , header = None)\n",
        "df_test = pd.read_csv(os.getcwd()+'/LIAR-PLUS'+'/dataset'+'/test2.tsv' , sep = '\\t' , header = None)"
      ],
      "execution_count": 0,
      "outputs": []
    },
    {
      "cell_type": "code",
      "metadata": {
        "id": "xtVBnp7qyfNK",
        "colab_type": "code",
        "colab": {}
      },
      "source": [
        "df = df.drop([0,1,4,5,6,7,8,9,10,11,12,13,14,15],axis=1)\n",
        "\n",
        "df_val = df_val.drop([0,1,4,5,6,7,8,9,10,11,12,13,14,15],axis=1)\n",
        "\n",
        "df_test = df_test.drop([0,1,4,5,6,7,8,9,10,11,12,13,14,15],axis=1)\n",
        "\n",
        "df.loc[(df[2] == 'true') , 2] = 5\n",
        "df.loc[(df[2] == 'mostly-true') , 2] = 4\n",
        "df.loc[(df[2] == 'half-true') , 2] = 3\n",
        "df.loc[(df[2] == 'barely-true') , 2] = 2\n",
        "df.loc[(df[2] == 'false') , 2] = 1\n",
        "df.loc[(df[2] == 'pants-fire') , 2] = 0\n",
        "df.columns = ['label','text']\n",
        "\n",
        "df['label'] = (df['label'] > 2).astype(int)\n",
        "\n",
        "df_val.loc[(df_val[2] == 'true') , 2] = 5\n",
        "df_val.loc[(df_val[2] == 'mostly-true') , 2] = 4\n",
        "df_val.loc[(df_val[2] == 'half-true') , 2] = 3\n",
        "df_val.loc[(df_val[2] == 'barely-true') , 2] = 2\n",
        "df_val.loc[(df_val[2] == 'false') , 2] = 1\n",
        "df_val.loc[(df_val[2] == 'pants-fire') , 2] = 0\n",
        "df_val.columns = ['label','text']\n",
        "\n",
        "df_val['label'] = (df_val['label'] > 2).astype(int)\n",
        "\n",
        "df_test.loc[(df_test[2] == 'true') , 2] = 5\n",
        "df_test.loc[(df_test[2] == 'mostly-true') , 2] = 4\n",
        "df_test.loc[(df_test[2] == 'half-true') , 2] = 3\n",
        "df_test.loc[(df_test[2] == 'barely-true') , 2] = 2\n",
        "df_test.loc[(df_test[2] == 'false') , 2] = 1\n",
        "df_test.loc[(df_test[2] == 'pants-fire') , 2] = 0\n",
        "df_test.columns = ['label','text']\n",
        "\n",
        "df_test['label'] = (df_test['label'] > 2).astype(int)\n",
        "\n",
        "df = pd.concat([df,df_val])\n"
      ],
      "execution_count": 0,
      "outputs": []
    },
    {
      "cell_type": "code",
      "metadata": {
        "id": "GoP5dP5Zzdtx",
        "colab_type": "code",
        "colab": {}
      },
      "source": [
        "labels = df['label'].tolist()\n",
        "labels = np.array(labels)\n",
        "labels\n",
        "\n",
        "labels_val = df_val['label'].tolist()\n",
        "labels_val = np.array(labels_val)\n",
        "\n",
        "\n",
        "labels_test = df_test['label'].tolist()\n",
        "labels_test = np.array(labels_test)"
      ],
      "execution_count": 0,
      "outputs": []
    },
    {
      "cell_type": "code",
      "metadata": {
        "id": "yqA1GSF4zxlN",
        "colab_type": "code",
        "colab": {}
      },
      "source": [
        "texts = df['text'].tolist()\n",
        "texts_val = df_val['text'].tolist()\n",
        "texts_test = df_test['text'].tolist()\n",
        "\n",
        "cvect = CountVectorizer()\n",
        "cout = cvect.fit_transform(texts)\n",
        "cout_val = cvect.transform(texts_val)\n",
        "cout_test = cvect.transform(texts_test)\n",
        "\n",
        "tfidfvect = TfidfTransformer()\n",
        "tout = tfidfvect.fit_transform(cout)\n",
        "tout_val = tfidfvect.transform(cout_val)\n",
        "tout_test = tfidfvect.transform(cout_test)\n",
        "\n",
        "# tout = cout\n",
        "# tout_val = cout_val"
      ],
      "execution_count": 0,
      "outputs": []
    },
    {
      "cell_type": "code",
      "metadata": {
        "id": "o-ipf3ecl4mf",
        "colab_type": "code",
        "colab": {
          "base_uri": "https://localhost:8080/",
          "height": 52
        },
        "outputId": "a3308b98-f574-4a9c-f61c-70c2b103faa9"
      },
      "source": [
        "tout[0]"
      ],
      "execution_count": 288,
      "outputs": [
        {
          "output_type": "execute_result",
          "data": {
            "text/plain": [
              "<1x12872 sparse matrix of type '<class 'numpy.float64'>'\n",
              "\twith 12 stored elements in Compressed Sparse Row format>"
            ]
          },
          "metadata": {
            "tags": []
          },
          "execution_count": 288
        }
      ]
    },
    {
      "cell_type": "code",
      "metadata": {
        "id": "ni9NF19c1e3m",
        "colab_type": "code",
        "colab": {}
      },
      "source": [
        "nbmodel = MultinomialNB().fit(tout,labels)"
      ],
      "execution_count": 0,
      "outputs": []
    },
    {
      "cell_type": "code",
      "metadata": {
        "id": "ZHRips6s1_1B",
        "colab_type": "code",
        "colab": {}
      },
      "source": [
        "pred = nbmodel.predict(tout_test)"
      ],
      "execution_count": 0,
      "outputs": []
    },
    {
      "cell_type": "code",
      "metadata": {
        "id": "hBaLFH3Q2MYI",
        "colab_type": "code",
        "colab": {
          "base_uri": "https://localhost:8080/",
          "height": 34
        },
        "outputId": "453d3c32-0aef-4066-df60-39a70048c843"
      },
      "source": [
        "cur = 0\n",
        "for i in range(len(pred)):\n",
        "    if pred[i] == labels_test[i]:\n",
        "        cur += 1\n",
        "\n",
        "print(\"Accuracy: %.2f%%\" % ((cur/float(len(labels_test)) * 100)))"
      ],
      "execution_count": 291,
      "outputs": [
        {
          "output_type": "stream",
          "text": [
            "Accuracy: 62.19%\n"
          ],
          "name": "stdout"
        }
      ]
    },
    {
      "cell_type": "code",
      "metadata": {
        "id": "ek14ApqF2aI8",
        "colab_type": "code",
        "colab": {}
      },
      "source": [
        "from sklearn.svm import SVC"
      ],
      "execution_count": 0,
      "outputs": []
    },
    {
      "cell_type": "code",
      "metadata": {
        "id": "0TJtNGE0281_",
        "colab_type": "code",
        "colab": {}
      },
      "source": [
        "svcmodel = SVC(kernel='linear').fit(tout,labels)"
      ],
      "execution_count": 0,
      "outputs": []
    },
    {
      "cell_type": "code",
      "metadata": {
        "id": "Lb7OxBwU3L8f",
        "colab_type": "code",
        "colab": {}
      },
      "source": [
        "pred = svcmodel.predict(tout_test)"
      ],
      "execution_count": 0,
      "outputs": []
    },
    {
      "cell_type": "code",
      "metadata": {
        "id": "GkZ9bvqr3QZr",
        "colab_type": "code",
        "colab": {
          "base_uri": "https://localhost:8080/",
          "height": 34
        },
        "outputId": "073ef087-19bc-4728-c99d-462e178bb1f5"
      },
      "source": [
        "cur = 0\n",
        "for i in range(len(pred)):\n",
        "    if pred[i] == labels_test[i]:\n",
        "        cur += 1\n",
        "\n",
        "print(\"Accuracy: %.2f%%\" % ((cur/float(len(labels_test)) * 100)))"
      ],
      "execution_count": 295,
      "outputs": [
        {
          "output_type": "stream",
          "text": [
            "Accuracy: 62.12%\n"
          ],
          "name": "stdout"
        }
      ]
    },
    {
      "cell_type": "code",
      "metadata": {
        "id": "7fLJSoF23TZ2",
        "colab_type": "code",
        "colab": {}
      },
      "source": [
        "from sklearn.linear_model import LogisticRegression"
      ],
      "execution_count": 0,
      "outputs": []
    },
    {
      "cell_type": "code",
      "metadata": {
        "id": "IE4WO4g-4akZ",
        "colab_type": "code",
        "colab": {}
      },
      "source": [
        "lrmodel = LogisticRegression(solver='lbfgs').fit(tout,labels)"
      ],
      "execution_count": 0,
      "outputs": []
    },
    {
      "cell_type": "code",
      "metadata": {
        "id": "oQTrHYP24mdj",
        "colab_type": "code",
        "colab": {}
      },
      "source": [
        "pred = lrmodel.predict(tout_test)"
      ],
      "execution_count": 0,
      "outputs": []
    },
    {
      "cell_type": "code",
      "metadata": {
        "id": "9QGv55XK41nI",
        "colab_type": "code",
        "colab": {
          "base_uri": "https://localhost:8080/",
          "height": 34
        },
        "outputId": "f1b4ba7f-6d5a-4a62-df90-b8d3e46e6c44"
      },
      "source": [
        "cur = 0\n",
        "for i in range(len(pred)):\n",
        "    if pred[i] == labels_test[i]:\n",
        "        cur += 1\n",
        "\n",
        "print(\"Accuracy: %.2f%%\" % ((cur/float(len(labels_test)) * 100)))"
      ],
      "execution_count": 299,
      "outputs": [
        {
          "output_type": "stream",
          "text": [
            "Accuracy: 62.59%\n"
          ],
          "name": "stdout"
        }
      ]
    },
    {
      "cell_type": "code",
      "metadata": {
        "id": "bNbKUWP643VE",
        "colab_type": "code",
        "colab": {}
      },
      "source": [
        "from sklearn.model_selection import GridSearchCV\n",
        "from sklearn.pipeline import Pipeline"
      ],
      "execution_count": 0,
      "outputs": []
    },
    {
      "cell_type": "code",
      "metadata": {
        "id": "go1dNvZ1UrNk",
        "colab_type": "code",
        "colab": {}
      },
      "source": [
        "nbmodel_pipe = Pipeline([('cvect',CountVectorizer()),\n",
        "                         ('tfidfvect',TfidfTransformer()),\n",
        "                         ('nbmodel',MultinomialNB())])"
      ],
      "execution_count": 0,
      "outputs": []
    },
    {
      "cell_type": "code",
      "metadata": {
        "id": "dmEJxLGyS9VJ",
        "colab_type": "code",
        "colab": {
          "base_uri": "https://localhost:8080/",
          "height": 72
        },
        "outputId": "7db3e0f7-3aec-46d9-8955-b622810464d6"
      },
      "source": [
        "params = {'cvect__ngram_range':[(1,1),(1,2),(1,3)],'tfidfvect__use_idf':(True,False),'nbmodel__alpha':(1e-2,1e-3)} \n",
        "\n",
        "gs_nbmodel = GridSearchCV(nbmodel_pipe,params,n_jobs=-1)\n",
        "\n",
        "gs_nbmodel = gs_nbmodel.fit(texts,labels)"
      ],
      "execution_count": 302,
      "outputs": [
        {
          "output_type": "stream",
          "text": [
            "/usr/local/lib/python3.6/dist-packages/sklearn/model_selection/_split.py:1978: FutureWarning: The default value of cv will change from 3 to 5 in version 0.22. Specify it explicitly to silence this warning.\n",
            "  warnings.warn(CV_WARNING, FutureWarning)\n"
          ],
          "name": "stderr"
        }
      ]
    },
    {
      "cell_type": "code",
      "metadata": {
        "id": "t2jmSHJMUGK7",
        "colab_type": "code",
        "colab": {
          "base_uri": "https://localhost:8080/",
          "height": 34
        },
        "outputId": "8bf80b3b-23f9-4344-c136-b7e64957f696"
      },
      "source": [
        "gs_nbmodel.best_score_"
      ],
      "execution_count": 303,
      "outputs": [
        {
          "output_type": "execute_result",
          "data": {
            "text/plain": [
              "0.6068205484206872"
            ]
          },
          "metadata": {
            "tags": []
          },
          "execution_count": 303
        }
      ]
    },
    {
      "cell_type": "code",
      "metadata": {
        "id": "lMYfOb77V8Ob",
        "colab_type": "code",
        "colab": {
          "base_uri": "https://localhost:8080/",
          "height": 69
        },
        "outputId": "1f335396-19d9-44e2-a5f1-3a0ebb829820"
      },
      "source": [
        "gs_nbmodel.best_params_"
      ],
      "execution_count": 304,
      "outputs": [
        {
          "output_type": "execute_result",
          "data": {
            "text/plain": [
              "{'cvect__ngram_range': (1, 3),\n",
              " 'nbmodel__alpha': 0.01,\n",
              " 'tfidfvect__use_idf': False}"
            ]
          },
          "metadata": {
            "tags": []
          },
          "execution_count": 304
        }
      ]
    },
    {
      "cell_type": "code",
      "metadata": {
        "id": "ozyJfAFFXtam",
        "colab_type": "code",
        "colab": {}
      },
      "source": [
        "pred = gs_nbmodel.predict(texts_test)"
      ],
      "execution_count": 0,
      "outputs": []
    },
    {
      "cell_type": "code",
      "metadata": {
        "id": "Epf6qB18X5BU",
        "colab_type": "code",
        "colab": {
          "base_uri": "https://localhost:8080/",
          "height": 34
        },
        "outputId": "e1e00937-c163-4b67-f526-67270ce8c786"
      },
      "source": [
        "cur = 0\n",
        "for i in range(len(pred)):\n",
        "    if pred[i] == labels_test[i]:\n",
        "        cur += 1\n",
        "\n",
        "print(\"Accuracy: %.2f%%\" % ((cur/float(len(labels_test)) * 100)))"
      ],
      "execution_count": 306,
      "outputs": [
        {
          "output_type": "stream",
          "text": [
            "Accuracy: 60.06%\n"
          ],
          "name": "stdout"
        }
      ]
    },
    {
      "cell_type": "code",
      "metadata": {
        "id": "1qqYasu3WGTD",
        "colab_type": "code",
        "colab": {}
      },
      "source": [
        "lrmodel_pipe = Pipeline([('cvect',CountVectorizer()),\n",
        "                         ('tfidfvect',TfidfTransformer()),\n",
        "                         ('lrmodel',LogisticRegression(solver = 'lbfgs'))])"
      ],
      "execution_count": 0,
      "outputs": []
    },
    {
      "cell_type": "code",
      "metadata": {
        "id": "k9rw040QWWwp",
        "colab_type": "code",
        "colab": {
          "base_uri": "https://localhost:8080/",
          "height": 72
        },
        "outputId": "91a72462-f25d-4eaf-ba45-4c813d8396db"
      },
      "source": [
        "params = {'cvect__ngram_range':[(1,1),(1,2),(1,3)],'tfidfvect__use_idf':(True,False)} \n",
        "\n",
        "gs_lrmodel = GridSearchCV(lrmodel_pipe,params,n_jobs=-1)\n",
        "\n",
        "gs_lrmodel = gs_lrmodel.fit(texts,labels)"
      ],
      "execution_count": 308,
      "outputs": [
        {
          "output_type": "stream",
          "text": [
            "/usr/local/lib/python3.6/dist-packages/sklearn/model_selection/_split.py:1978: FutureWarning: The default value of cv will change from 3 to 5 in version 0.22. Specify it explicitly to silence this warning.\n",
            "  warnings.warn(CV_WARNING, FutureWarning)\n"
          ],
          "name": "stderr"
        }
      ]
    },
    {
      "cell_type": "code",
      "metadata": {
        "id": "DbnP1qm6WgAj",
        "colab_type": "code",
        "colab": {
          "base_uri": "https://localhost:8080/",
          "height": 34
        },
        "outputId": "e58d03e1-f51d-46f3-a036-e59cb25a9039"
      },
      "source": [
        "gs_lrmodel.best_score_"
      ],
      "execution_count": 309,
      "outputs": [
        {
          "output_type": "execute_result",
          "data": {
            "text/plain": [
              "0.6292953835473794"
            ]
          },
          "metadata": {
            "tags": []
          },
          "execution_count": 309
        }
      ]
    },
    {
      "cell_type": "code",
      "metadata": {
        "id": "95B33yQvW6hJ",
        "colab_type": "code",
        "colab": {
          "base_uri": "https://localhost:8080/",
          "height": 34
        },
        "outputId": "6ca2c725-1c6f-40ad-a051-2924b606958f"
      },
      "source": [
        "gs_lrmodel.best_params_"
      ],
      "execution_count": 310,
      "outputs": [
        {
          "output_type": "execute_result",
          "data": {
            "text/plain": [
              "{'cvect__ngram_range': (1, 2), 'tfidfvect__use_idf': True}"
            ]
          },
          "metadata": {
            "tags": []
          },
          "execution_count": 310
        }
      ]
    },
    {
      "cell_type": "code",
      "metadata": {
        "id": "fF9NDYu0W-_c",
        "colab_type": "code",
        "colab": {}
      },
      "source": [
        "pred = gs_lrmodel.predict(texts_test)"
      ],
      "execution_count": 0,
      "outputs": []
    },
    {
      "cell_type": "code",
      "metadata": {
        "id": "pJMK8h8bYCeW",
        "colab_type": "code",
        "colab": {
          "base_uri": "https://localhost:8080/",
          "height": 34
        },
        "outputId": "f2bd8bf6-9c63-4bbe-d3dc-206a7a24bcf5"
      },
      "source": [
        "cur = 0\n",
        "for i in range(len(pred)):\n",
        "    if pred[i] == labels_test[i]:\n",
        "        cur += 1\n",
        "\n",
        "print(\"Accuracy: %.2f%%\" % ((cur/float(len(labels_test)) * 100)))"
      ],
      "execution_count": 312,
      "outputs": [
        {
          "output_type": "stream",
          "text": [
            "Accuracy: 62.51%\n"
          ],
          "name": "stdout"
        }
      ]
    },
    {
      "cell_type": "markdown",
      "metadata": {
        "id": "4gzNKgWfcI7s",
        "colab_type": "text"
      },
      "source": [
        "###Binary Classification using Logistic Regression,Naive Bayes and SVM on statement and justification"
      ]
    },
    {
      "cell_type": "code",
      "metadata": {
        "id": "Sxk2QqxOYFzJ",
        "colab_type": "code",
        "colab": {}
      },
      "source": [
        "df = pd.read_csv(os.getcwd()+'/LIAR-PLUS'+'/dataset'+'/train2.tsv' , sep = '\\t' , header = None)\n",
        "df_val = pd.read_csv(os.getcwd()+'/LIAR-PLUS'+'/dataset'+'/val2.tsv' , sep = '\\t' , header = None)\n",
        "df_test = pd.read_csv(os.getcwd()+'/LIAR-PLUS'+'/dataset'+'/test2.tsv' , sep = '\\t' , header = None)"
      ],
      "execution_count": 0,
      "outputs": []
    },
    {
      "cell_type": "code",
      "metadata": {
        "id": "J1ovd74uc2ii",
        "colab_type": "code",
        "colab": {}
      },
      "source": [
        "df = df.drop([0,1,4,5,6,7,8,9,10,11,12,13,14],axis=1)\n",
        "\n",
        "df_val = df_val.drop([0,1,4,5,6,7,8,9,10,11,12,13,14],axis=1)\n",
        "\n",
        "df_test = df_test.drop([0,1,4,5,6,7,8,9,10,11,12,13,14],axis=1)\n",
        "\n",
        "df.loc[(df[2] == 'true') , 2] = 5\n",
        "df.loc[(df[2] == 'mostly-true') , 2] = 4\n",
        "df.loc[(df[2] == 'half-true') , 2] = 3\n",
        "df.loc[(df[2] == 'barely-true') , 2] = 2\n",
        "df.loc[(df[2] == 'false') , 2] = 1\n",
        "df.loc[(df[2] == 'pants-fire') , 2] = 0\n",
        "df.columns = ['label','text','just']\n",
        "\n",
        "df['label'] = (df['label'] > 2).astype(int)\n",
        "\n",
        "df_val.loc[(df_val[2] == 'true') , 2] = 5\n",
        "df_val.loc[(df_val[2] == 'mostly-true') , 2] = 4\n",
        "df_val.loc[(df_val[2] == 'half-true') , 2] = 3\n",
        "df_val.loc[(df_val[2] == 'barely-true') , 2] = 2\n",
        "df_val.loc[(df_val[2] == 'false') , 2] = 1\n",
        "df_val.loc[(df_val[2] == 'pants-fire') , 2] = 0\n",
        "df_val.columns = ['label','text','just']\n",
        "\n",
        "df_val['label'] = (df_val['label'] > 2).astype(int)\n",
        "\n",
        "df_test.loc[(df_test[2] == 'true') , 2] = 5\n",
        "df_test.loc[(df_test[2] == 'mostly-true') , 2] = 4\n",
        "df_test.loc[(df_test[2] == 'half-true') , 2] = 3\n",
        "df_test.loc[(df_test[2] == 'barely-true') , 2] = 2\n",
        "df_test.loc[(df_test[2] == 'false') , 2] = 1\n",
        "df_test.loc[(df_test[2] == 'pants-fire') , 2] = 0\n",
        "df_test.columns = ['label','text','just']\n",
        "\n",
        "df_test['label'] = (df_test['label'] > 2).astype(int)\n",
        "\n",
        "df = pd.concat([df,df_val])"
      ],
      "execution_count": 0,
      "outputs": []
    },
    {
      "cell_type": "code",
      "metadata": {
        "id": "ACttM6_gc_X-",
        "colab_type": "code",
        "colab": {}
      },
      "source": [
        "labels = df['label'].tolist()\n",
        "labels = np.array(labels)\n",
        "labels\n",
        "\n",
        "labels_val = df_val['label'].tolist()\n",
        "labels_val = np.array(labels_val)\n",
        "\n",
        "labels_test = df_test['label'].tolist()\n",
        "labels_test = np.array(labels_test)"
      ],
      "execution_count": 0,
      "outputs": []
    },
    {
      "cell_type": "code",
      "metadata": {
        "id": "5rsz-DPOdC6G",
        "colab_type": "code",
        "colab": {}
      },
      "source": [
        "# df['just'] = df['just'].combine_first(df['text'])\n",
        "# df_val['just'] = df_val['just'].combine_first(df_val['text'])\n",
        "# df.head()"
      ],
      "execution_count": 0,
      "outputs": []
    },
    {
      "cell_type": "code",
      "metadata": {
        "id": "F-4alKgnGyl8",
        "colab_type": "code",
        "colab": {}
      },
      "source": [
        "df['concat'] = df['text'] + '+' + df['just']\n",
        "df_val['concat'] = df_val['text'] + ' + ' + df_val['just']\n",
        "df_test['concat'] = df_test['text'] + ' + ' + df_test['just']\n"
      ],
      "execution_count": 0,
      "outputs": []
    },
    {
      "cell_type": "code",
      "metadata": {
        "id": "fk9YQjwGONUZ",
        "colab_type": "code",
        "colab": {
          "base_uri": "https://localhost:8080/",
          "height": 206
        },
        "outputId": "c4388c18-ade6-41d7-f340-170dfa58814d"
      },
      "source": [
        "df['concat'] = df['concat'].combine_first(df['text'])\n",
        "df_val['concat'] = df_val['concat'].combine_first(df_val['text'])\n",
        "df_test['concat'] = df_test['concat'].combine_first(df_test['text'])\n",
        "df.head()"
      ],
      "execution_count": 318,
      "outputs": [
        {
          "output_type": "execute_result",
          "data": {
            "text/html": [
              "<div>\n",
              "<style scoped>\n",
              "    .dataframe tbody tr th:only-of-type {\n",
              "        vertical-align: middle;\n",
              "    }\n",
              "\n",
              "    .dataframe tbody tr th {\n",
              "        vertical-align: top;\n",
              "    }\n",
              "\n",
              "    .dataframe thead th {\n",
              "        text-align: right;\n",
              "    }\n",
              "</style>\n",
              "<table border=\"1\" class=\"dataframe\">\n",
              "  <thead>\n",
              "    <tr style=\"text-align: right;\">\n",
              "      <th></th>\n",
              "      <th>label</th>\n",
              "      <th>text</th>\n",
              "      <th>just</th>\n",
              "      <th>concat</th>\n",
              "    </tr>\n",
              "  </thead>\n",
              "  <tbody>\n",
              "    <tr>\n",
              "      <th>0</th>\n",
              "      <td>0</td>\n",
              "      <td>Says the Annies List political group supports ...</td>\n",
              "      <td>That's a premise that he fails to back up. Ann...</td>\n",
              "      <td>Says the Annies List political group supports ...</td>\n",
              "    </tr>\n",
              "    <tr>\n",
              "      <th>1</th>\n",
              "      <td>1</td>\n",
              "      <td>When did the decline of coal start? It started...</td>\n",
              "      <td>Surovell said the decline of coal \"started whe...</td>\n",
              "      <td>When did the decline of coal start? It started...</td>\n",
              "    </tr>\n",
              "    <tr>\n",
              "      <th>2</th>\n",
              "      <td>1</td>\n",
              "      <td>Hillary Clinton agrees with John McCain \"by vo...</td>\n",
              "      <td>Obama said he would have voted against the ame...</td>\n",
              "      <td>Hillary Clinton agrees with John McCain \"by vo...</td>\n",
              "    </tr>\n",
              "    <tr>\n",
              "      <th>3</th>\n",
              "      <td>0</td>\n",
              "      <td>Health care reform legislation is likely to ma...</td>\n",
              "      <td>The release may have a point that Mikulskis co...</td>\n",
              "      <td>Health care reform legislation is likely to ma...</td>\n",
              "    </tr>\n",
              "    <tr>\n",
              "      <th>4</th>\n",
              "      <td>1</td>\n",
              "      <td>The economic turnaround started at the end of ...</td>\n",
              "      <td>Crist said that the economic \"turnaround start...</td>\n",
              "      <td>The economic turnaround started at the end of ...</td>\n",
              "    </tr>\n",
              "  </tbody>\n",
              "</table>\n",
              "</div>"
            ],
            "text/plain": [
              "   label  ...                                             concat\n",
              "0      0  ...  Says the Annies List political group supports ...\n",
              "1      1  ...  When did the decline of coal start? It started...\n",
              "2      1  ...  Hillary Clinton agrees with John McCain \"by vo...\n",
              "3      0  ...  Health care reform legislation is likely to ma...\n",
              "4      1  ...  The economic turnaround started at the end of ...\n",
              "\n",
              "[5 rows x 4 columns]"
            ]
          },
          "metadata": {
            "tags": []
          },
          "execution_count": 318
        }
      ]
    },
    {
      "cell_type": "code",
      "metadata": {
        "id": "AotnSRXMO1RV",
        "colab_type": "code",
        "colab": {
          "base_uri": "https://localhost:8080/",
          "height": 69
        },
        "outputId": "679f0f79-80e5-4115-a832-acc1eba3d102"
      },
      "source": [
        "df['concat'][0]"
      ],
      "execution_count": 319,
      "outputs": [
        {
          "output_type": "execute_result",
          "data": {
            "text/plain": [
              "0    Says the Annies List political group supports ...\n",
              "0    We have less Americans working now than in the...\n",
              "Name: concat, dtype: object"
            ]
          },
          "metadata": {
            "tags": []
          },
          "execution_count": 319
        }
      ]
    },
    {
      "cell_type": "code",
      "metadata": {
        "id": "YA8RDTQ1PZar",
        "colab_type": "code",
        "colab": {}
      },
      "source": [
        "# texts = df['just'].tolist()\n",
        "# texts_val = df_val['just'].tolist()\n",
        "\n",
        "# cvect = CountVectorizer()\n",
        "# cout = cvect.fit_transform(texts)\n",
        "# cout_val = cvect.transform(texts_val)\n",
        "\n",
        "# tfidfvect = TfidfTransformer()\n",
        "# tout1 = tfidfvect.fit_transform(cout)\n",
        "# tout_val1 = tfidfvect.transform(cout_val)\n"
      ],
      "execution_count": 0,
      "outputs": []
    },
    {
      "cell_type": "code",
      "metadata": {
        "id": "iLO2ZponFzYU",
        "colab_type": "code",
        "colab": {}
      },
      "source": [
        "texts = df['concat'].tolist()\n",
        "texts_val = df_val['concat'].tolist()\n",
        "texts_test = df_test['concat'].tolist()\n",
        "\n",
        "cvect = CountVectorizer()\n",
        "cout = cvect.fit_transform(texts)\n",
        "cout_val = cvect.transform(texts_val)\n",
        "cout_test = cvect.transform(texts_test)\n",
        "\n",
        "tfidfvect = TfidfTransformer()\n",
        "tout = tfidfvect.fit_transform(cout)\n",
        "tout_val = tfidfvect.transform(cout_val)\n",
        "tout_test = tfidfvect.transform(cout_test)\n",
        "\n",
        "# tout = cout\n",
        "# tout_val = cout_val"
      ],
      "execution_count": 0,
      "outputs": []
    },
    {
      "cell_type": "code",
      "metadata": {
        "id": "EpE_0JKbJ_r0",
        "colab_type": "code",
        "colab": {}
      },
      "source": [
        "lrmodel = LogisticRegression(solver='lbfgs').fit(tout,labels)"
      ],
      "execution_count": 0,
      "outputs": []
    },
    {
      "cell_type": "code",
      "metadata": {
        "id": "8Z2JXJd6KNGR",
        "colab_type": "code",
        "colab": {}
      },
      "source": [
        "pred = lrmodel.predict(tout_test)"
      ],
      "execution_count": 0,
      "outputs": []
    },
    {
      "cell_type": "code",
      "metadata": {
        "id": "IdHh7hpEKQRs",
        "colab_type": "code",
        "colab": {
          "base_uri": "https://localhost:8080/",
          "height": 34
        },
        "outputId": "d39b2018-9b42-4845-8635-28e057863c87"
      },
      "source": [
        "cur = 0\n",
        "for i in range(len(pred)):\n",
        "    if pred[i] == labels_test[i]:\n",
        "        cur += 1\n",
        "\n",
        "print(\"Accuracy: %.2f%%\" % ((cur/float(len(labels_test)) * 100)))"
      ],
      "execution_count": 323,
      "outputs": [
        {
          "output_type": "stream",
          "text": [
            "Accuracy: 59.51%\n"
          ],
          "name": "stdout"
        }
      ]
    },
    {
      "cell_type": "code",
      "metadata": {
        "id": "WHcyNmlfKQ8F",
        "colab_type": "code",
        "colab": {}
      },
      "source": [
        "svcmodel = SVC(kernel='linear').fit(tout,labels)"
      ],
      "execution_count": 0,
      "outputs": []
    },
    {
      "cell_type": "code",
      "metadata": {
        "id": "AVKXYla9Te6k",
        "colab_type": "code",
        "colab": {}
      },
      "source": [
        "pred = svcmodel.predict(tout_test)"
      ],
      "execution_count": 0,
      "outputs": []
    },
    {
      "cell_type": "code",
      "metadata": {
        "id": "rsz9z05iTi6S",
        "colab_type": "code",
        "colab": {
          "base_uri": "https://localhost:8080/",
          "height": 34
        },
        "outputId": "252345cd-785b-491d-9d81-5e8ff5545885"
      },
      "source": [
        "cur = 0\n",
        "for i in range(len(pred)):\n",
        "    if pred[i] == labels_test[i]:\n",
        "        cur += 1\n",
        "\n",
        "print(\"Accuracy: %.2f%%\" % ((cur/float(len(labels_test)) * 100)))"
      ],
      "execution_count": 326,
      "outputs": [
        {
          "output_type": "stream",
          "text": [
            "Accuracy: 59.67%\n"
          ],
          "name": "stdout"
        }
      ]
    },
    {
      "cell_type": "code",
      "metadata": {
        "id": "flboN5_IV1hh",
        "colab_type": "code",
        "colab": {}
      },
      "source": [
        "nbmodel = MultinomialNB().fit(tout,labels)"
      ],
      "execution_count": 0,
      "outputs": []
    },
    {
      "cell_type": "code",
      "metadata": {
        "id": "254oqlNuV9jp",
        "colab_type": "code",
        "colab": {}
      },
      "source": [
        "pred = nbmodel.predict(tout_test)"
      ],
      "execution_count": 0,
      "outputs": []
    },
    {
      "cell_type": "code",
      "metadata": {
        "id": "id4uO1nmWCTq",
        "colab_type": "code",
        "colab": {
          "base_uri": "https://localhost:8080/",
          "height": 34
        },
        "outputId": "854aed54-5ce7-4cb7-c62b-c579378e845c"
      },
      "source": [
        "cur = 0\n",
        "for i in range(len(pred)):\n",
        "    if pred[i] == labels_test[i]:\n",
        "        cur += 1\n",
        "\n",
        "print(\"Accuracy: %.2f%%\" % ((cur/float(len(labels_test)) * 100)))"
      ],
      "execution_count": 329,
      "outputs": [
        {
          "output_type": "stream",
          "text": [
            "Accuracy: 57.54%\n"
          ],
          "name": "stdout"
        }
      ]
    },
    {
      "cell_type": "markdown",
      "metadata": {
        "id": "NPlAbHgxcbiR",
        "colab_type": "text"
      },
      "source": [
        "###6-way Classification using Logistic regression,Naive Bayes and SVM only on statement"
      ]
    },
    {
      "cell_type": "code",
      "metadata": {
        "id": "QKj3a9mKWHtF",
        "colab_type": "code",
        "colab": {}
      },
      "source": [
        "df = pd.read_csv(os.getcwd()+'/LIAR-PLUS'+'/dataset'+'/train2.tsv' , sep = '\\t' , header = None)\n",
        "df_val = pd.read_csv(os.getcwd()+'/LIAR-PLUS'+'/dataset'+'/val2.tsv' , sep = '\\t' , header = None)\n",
        "df_test = pd.read_csv(os.getcwd()+'/LIAR-PLUS'+'/dataset'+'/test2.tsv' , sep = '\\t' , header = None)"
      ],
      "execution_count": 0,
      "outputs": []
    },
    {
      "cell_type": "code",
      "metadata": {
        "id": "B4xAPTovWgTP",
        "colab_type": "code",
        "colab": {}
      },
      "source": [
        "df = df.drop([0,1,4,5,6,7,8,9,10,11,12,13,14,15],axis=1)\n",
        "\n",
        "df_val = df_val.drop([0,1,4,5,6,7,8,9,10,11,12,13,14,15],axis=1)\n",
        "\n",
        "df_test = df_test.drop([0,1,4,5,6,7,8,9,10,11,12,13,14,15],axis=1)\n",
        "\n",
        "df.loc[(df[2] == 'true') , 2] = 5\n",
        "df.loc[(df[2] == 'mostly-true') , 2] = 4\n",
        "df.loc[(df[2] == 'half-true') , 2] = 3\n",
        "df.loc[(df[2] == 'barely-true') , 2] = 2\n",
        "df.loc[(df[2] == 'false') , 2] = 1\n",
        "df.loc[(df[2] == 'pants-fire') , 2] = 0\n",
        "df.columns = ['label','text']\n",
        "\n",
        "# df['label'] = (df['label'] > 2).astype(int)\n",
        "\n",
        "df_val.loc[(df_val[2] == 'true') , 2] = 5\n",
        "df_val.loc[(df_val[2] == 'mostly-true') , 2] = 4\n",
        "df_val.loc[(df_val[2] == 'half-true') , 2] = 3\n",
        "df_val.loc[(df_val[2] == 'barely-true') , 2] = 2\n",
        "df_val.loc[(df_val[2] == 'false') , 2] = 1\n",
        "df_val.loc[(df_val[2] == 'pants-fire') , 2] = 0\n",
        "df_val.columns = ['label','text']\n",
        "\n",
        "# df_val['label'] = (df_val['label'] > 2).astype(int)\n",
        "\n",
        "df_test.loc[(df_test[2] == 'true') , 2] = 5\n",
        "df_test.loc[(df_test[2] == 'mostly-true') , 2] = 4\n",
        "df_test.loc[(df_test[2] == 'half-true') , 2] = 3\n",
        "df_test.loc[(df_test[2] == 'barely-true') , 2] = 2\n",
        "df_test.loc[(df_test[2] == 'false') , 2] = 1\n",
        "df_test.loc[(df_test[2] == 'pants-fire') , 2] = 0\n",
        "df_test.columns = ['label','text']\n",
        "\n",
        "# df_test['label'] = (df_test['label'] > 2).astype(int)\n",
        "df = pd.concat([df,df_val])"
      ],
      "execution_count": 0,
      "outputs": []
    },
    {
      "cell_type": "code",
      "metadata": {
        "id": "H08ywd89WutC",
        "colab_type": "code",
        "colab": {}
      },
      "source": [
        "labels = df['label'].tolist()\n",
        "labels = np.array(labels)\n",
        "labels\n",
        "\n",
        "labels_val = df_val['label'].tolist()\n",
        "labels_val = np.array(labels_val)\n",
        "\n",
        "\n",
        "labels_test = df_test['label'].tolist()\n",
        "labels_test = np.array(labels_test)"
      ],
      "execution_count": 0,
      "outputs": []
    },
    {
      "cell_type": "code",
      "metadata": {
        "id": "eQLmovQxWvWk",
        "colab_type": "code",
        "colab": {}
      },
      "source": [
        "texts = df['text'].tolist()\n",
        "texts_val = df_val['text'].tolist()\n",
        "texts_test = df_test['text'].tolist()\n",
        "\n",
        "cvect = CountVectorizer()\n",
        "cout = cvect.fit_transform(texts)\n",
        "cout_val = cvect.transform(texts_val)\n",
        "cout_test = cvect.transform(texts_test)\n",
        "\n",
        "tfidfvect = TfidfTransformer()\n",
        "tout = tfidfvect.fit_transform(cout)\n",
        "tout_val = tfidfvect.transform(cout_val)\n",
        "tout_test = tfidfvect.transform(cout_test)\n",
        "\n",
        "# tout = cout\n",
        "# tout_val = cout_val"
      ],
      "execution_count": 0,
      "outputs": []
    },
    {
      "cell_type": "code",
      "metadata": {
        "id": "o8tsZH9pW0Y3",
        "colab_type": "code",
        "colab": {
          "base_uri": "https://localhost:8080/",
          "height": 72
        },
        "outputId": "b373a04d-a540-40f5-f6e1-b5ba9db552ff"
      },
      "source": [
        "lrmodel = LogisticRegression(solver='lbfgs').fit(tout,labels)"
      ],
      "execution_count": 334,
      "outputs": [
        {
          "output_type": "stream",
          "text": [
            "/usr/local/lib/python3.6/dist-packages/sklearn/linear_model/logistic.py:469: FutureWarning: Default multi_class will be changed to 'auto' in 0.22. Specify the multi_class option to silence this warning.\n",
            "  \"this warning.\", FutureWarning)\n"
          ],
          "name": "stderr"
        }
      ]
    },
    {
      "cell_type": "code",
      "metadata": {
        "id": "ez89Xj2YW-a-",
        "colab_type": "code",
        "colab": {}
      },
      "source": [
        "pred = lrmodel.predict(tout_test)"
      ],
      "execution_count": 0,
      "outputs": []
    },
    {
      "cell_type": "code",
      "metadata": {
        "id": "TkDKb0L_XCTq",
        "colab_type": "code",
        "colab": {
          "base_uri": "https://localhost:8080/",
          "height": 34
        },
        "outputId": "05a1cb6f-e198-4688-c6dc-9ff90257e174"
      },
      "source": [
        "cur = 0\n",
        "for i in range(len(pred)):\n",
        "    if pred[i] == labels_test[i]:\n",
        "        cur += 1\n",
        "\n",
        "print(\"Accuracy: %.2f%%\" % ((cur/float(len(labels_test)) * 100)))"
      ],
      "execution_count": 336,
      "outputs": [
        {
          "output_type": "stream",
          "text": [
            "Accuracy: 25.65%\n"
          ],
          "name": "stdout"
        }
      ]
    },
    {
      "cell_type": "code",
      "metadata": {
        "id": "ABVHLlVFXF_j",
        "colab_type": "code",
        "colab": {}
      },
      "source": [
        "nbmodel = MultinomialNB().fit(tout,labels)"
      ],
      "execution_count": 0,
      "outputs": []
    },
    {
      "cell_type": "code",
      "metadata": {
        "id": "ndmpNv3HXNrM",
        "colab_type": "code",
        "colab": {}
      },
      "source": [
        "pred = nbmodel.predict(tout_test)"
      ],
      "execution_count": 0,
      "outputs": []
    },
    {
      "cell_type": "code",
      "metadata": {
        "id": "nHsVDhSMXOkh",
        "colab_type": "code",
        "colab": {
          "base_uri": "https://localhost:8080/",
          "height": 34
        },
        "outputId": "dc100839-002a-4516-b0ec-6c9014e0f5af"
      },
      "source": [
        "cur = 0\n",
        "for i in range(len(pred)):\n",
        "    if pred[i] == labels_test[i]:\n",
        "        cur += 1\n",
        "\n",
        "print(\"Accuracy: %.2f%%\" % ((cur/float(len(labels_test)) * 100)))"
      ],
      "execution_count": 339,
      "outputs": [
        {
          "output_type": "stream",
          "text": [
            "Accuracy: 26.12%\n"
          ],
          "name": "stdout"
        }
      ]
    },
    {
      "cell_type": "code",
      "metadata": {
        "id": "V7CZyOsUXSe8",
        "colab_type": "code",
        "colab": {}
      },
      "source": [
        "svcmodel = SVC(kernel='linear').fit(tout,labels)"
      ],
      "execution_count": 0,
      "outputs": []
    },
    {
      "cell_type": "code",
      "metadata": {
        "id": "ude5XGLeXj7M",
        "colab_type": "code",
        "colab": {}
      },
      "source": [
        "pred = svcmodel.predict(tout_test)"
      ],
      "execution_count": 0,
      "outputs": []
    },
    {
      "cell_type": "code",
      "metadata": {
        "id": "Np4--J11XnvJ",
        "colab_type": "code",
        "colab": {
          "base_uri": "https://localhost:8080/",
          "height": 34
        },
        "outputId": "e658e728-a13f-4c26-8ad8-ca3a572de7af"
      },
      "source": [
        "cur = 0\n",
        "for i in range(len(pred)):\n",
        "    if pred[i] == labels_test[i]:\n",
        "        cur += 1\n",
        "\n",
        "print(\"Accuracy: %.2f%%\" % ((cur/float(len(labels_test)) * 100)))"
      ],
      "execution_count": 342,
      "outputs": [
        {
          "output_type": "stream",
          "text": [
            "Accuracy: 25.89%\n"
          ],
          "name": "stdout"
        }
      ]
    },
    {
      "cell_type": "markdown",
      "metadata": {
        "id": "9OHRZ_amckgJ",
        "colab_type": "text"
      },
      "source": [
        "###6-Way Classification using Logistic Regression,Naive Bayes and SVM on statement and Justification"
      ]
    },
    {
      "cell_type": "code",
      "metadata": {
        "id": "RG-41XpUXp0B",
        "colab_type": "code",
        "colab": {}
      },
      "source": [
        "df = pd.read_csv(os.getcwd()+'/LIAR-PLUS'+'/dataset'+'/train2.tsv' , sep = '\\t' , header = None)\n",
        "df_val = pd.read_csv(os.getcwd()+'/LIAR-PLUS'+'/dataset'+'/val2.tsv' , sep = '\\t' , header = None)\n",
        "df_test = pd.read_csv(os.getcwd()+'/LIAR-PLUS'+'/dataset'+'/test2.tsv' , sep = '\\t' , header = None)"
      ],
      "execution_count": 0,
      "outputs": []
    },
    {
      "cell_type": "code",
      "metadata": {
        "id": "AEqhXgD0ZTUP",
        "colab_type": "code",
        "colab": {}
      },
      "source": [
        "df = df.drop([0,1,4,5,6,7,8,9,10,11,12,13,14],axis=1)\n",
        "\n",
        "df_val = df_val.drop([0,1,4,5,6,7,8,9,10,11,12,13,14],axis=1)\n",
        "\n",
        "df_test = df_test.drop([0,1,4,5,6,7,8,9,10,11,12,13,14],axis=1)\n",
        "\n",
        "df.loc[(df[2] == 'true') , 2] = 5\n",
        "df.loc[(df[2] == 'mostly-true') , 2] = 4\n",
        "df.loc[(df[2] == 'half-true') , 2] = 3\n",
        "df.loc[(df[2] == 'barely-true') , 2] = 2\n",
        "df.loc[(df[2] == 'false') , 2] = 1\n",
        "df.loc[(df[2] == 'pants-fire') , 2] = 0\n",
        "df.columns = ['label','text','just']\n",
        "\n",
        "# df['label'] = (df['label'] > 2).astype(int)\n",
        "\n",
        "df_val.loc[(df_val[2] == 'true') , 2] = 5\n",
        "df_val.loc[(df_val[2] == 'mostly-true') , 2] = 4\n",
        "df_val.loc[(df_val[2] == 'half-true') , 2] = 3\n",
        "df_val.loc[(df_val[2] == 'barely-true') , 2] = 2\n",
        "df_val.loc[(df_val[2] == 'false') , 2] = 1\n",
        "df_val.loc[(df_val[2] == 'pants-fire') , 2] = 0\n",
        "df_val.columns = ['label','text','just']\n",
        "\n",
        "# df_val['label'] = (df_val['label'] > 2).astype(int)\n",
        "\n",
        "df_test.loc[(df_test[2] == 'true') , 2] = 5\n",
        "df_test.loc[(df_test[2] == 'mostly-true') , 2] = 4\n",
        "df_test.loc[(df_test[2] == 'half-true') , 2] = 3\n",
        "df_test.loc[(df_test[2] == 'barely-true') , 2] = 2\n",
        "df_test.loc[(df_test[2] == 'false') , 2] = 1\n",
        "df_test.loc[(df_test[2] == 'pants-fire') , 2] = 0\n",
        "df_test.columns = ['label','text','just']\n",
        "\n",
        "# df_test['label'] = (df_test['label'] > 2).astype(int)\n",
        "df = pd.concat([df,df_val])"
      ],
      "execution_count": 0,
      "outputs": []
    },
    {
      "cell_type": "code",
      "metadata": {
        "id": "z5WaURVGZ4MY",
        "colab_type": "code",
        "colab": {}
      },
      "source": [
        "labels = df['label'].tolist()\n",
        "labels = np.array(labels)\n",
        "labels\n",
        "\n",
        "labels_val = df_val['label'].tolist()\n",
        "labels_val = np.array(labels_val)\n",
        "\n",
        "labels_test = df_test['label'].tolist()\n",
        "labels_test = np.array(labels_test)"
      ],
      "execution_count": 0,
      "outputs": []
    },
    {
      "cell_type": "code",
      "metadata": {
        "id": "F0Btn7lcZ54o",
        "colab_type": "code",
        "colab": {}
      },
      "source": [
        "df['concat'] = df['text'] + '+' + df['just']\n",
        "df_val['concat'] = df_val['text'] + ' + ' + df_val['just']\n",
        "df_test['concat'] = df_test['text'] + ' + ' + df_test['just']\n"
      ],
      "execution_count": 0,
      "outputs": []
    },
    {
      "cell_type": "code",
      "metadata": {
        "id": "stD89LpJZ9xL",
        "colab_type": "code",
        "colab": {
          "base_uri": "https://localhost:8080/",
          "height": 206
        },
        "outputId": "07766075-c271-41ad-89b7-be4fc94d5265"
      },
      "source": [
        "df['concat'] = df['concat'].combine_first(df['text'])\n",
        "df_val['concat'] = df_val['concat'].combine_first(df_val['text'])\n",
        "df_test['concat'] = df_test['concat'].combine_first(df_test['text'])\n",
        "df.head()"
      ],
      "execution_count": 347,
      "outputs": [
        {
          "output_type": "execute_result",
          "data": {
            "text/html": [
              "<div>\n",
              "<style scoped>\n",
              "    .dataframe tbody tr th:only-of-type {\n",
              "        vertical-align: middle;\n",
              "    }\n",
              "\n",
              "    .dataframe tbody tr th {\n",
              "        vertical-align: top;\n",
              "    }\n",
              "\n",
              "    .dataframe thead th {\n",
              "        text-align: right;\n",
              "    }\n",
              "</style>\n",
              "<table border=\"1\" class=\"dataframe\">\n",
              "  <thead>\n",
              "    <tr style=\"text-align: right;\">\n",
              "      <th></th>\n",
              "      <th>label</th>\n",
              "      <th>text</th>\n",
              "      <th>just</th>\n",
              "      <th>concat</th>\n",
              "    </tr>\n",
              "  </thead>\n",
              "  <tbody>\n",
              "    <tr>\n",
              "      <th>0</th>\n",
              "      <td>1</td>\n",
              "      <td>Says the Annies List political group supports ...</td>\n",
              "      <td>That's a premise that he fails to back up. Ann...</td>\n",
              "      <td>Says the Annies List political group supports ...</td>\n",
              "    </tr>\n",
              "    <tr>\n",
              "      <th>1</th>\n",
              "      <td>3</td>\n",
              "      <td>When did the decline of coal start? It started...</td>\n",
              "      <td>Surovell said the decline of coal \"started whe...</td>\n",
              "      <td>When did the decline of coal start? It started...</td>\n",
              "    </tr>\n",
              "    <tr>\n",
              "      <th>2</th>\n",
              "      <td>4</td>\n",
              "      <td>Hillary Clinton agrees with John McCain \"by vo...</td>\n",
              "      <td>Obama said he would have voted against the ame...</td>\n",
              "      <td>Hillary Clinton agrees with John McCain \"by vo...</td>\n",
              "    </tr>\n",
              "    <tr>\n",
              "      <th>3</th>\n",
              "      <td>1</td>\n",
              "      <td>Health care reform legislation is likely to ma...</td>\n",
              "      <td>The release may have a point that Mikulskis co...</td>\n",
              "      <td>Health care reform legislation is likely to ma...</td>\n",
              "    </tr>\n",
              "    <tr>\n",
              "      <th>4</th>\n",
              "      <td>3</td>\n",
              "      <td>The economic turnaround started at the end of ...</td>\n",
              "      <td>Crist said that the economic \"turnaround start...</td>\n",
              "      <td>The economic turnaround started at the end of ...</td>\n",
              "    </tr>\n",
              "  </tbody>\n",
              "</table>\n",
              "</div>"
            ],
            "text/plain": [
              "  label  ...                                             concat\n",
              "0     1  ...  Says the Annies List political group supports ...\n",
              "1     3  ...  When did the decline of coal start? It started...\n",
              "2     4  ...  Hillary Clinton agrees with John McCain \"by vo...\n",
              "3     1  ...  Health care reform legislation is likely to ma...\n",
              "4     3  ...  The economic turnaround started at the end of ...\n",
              "\n",
              "[5 rows x 4 columns]"
            ]
          },
          "metadata": {
            "tags": []
          },
          "execution_count": 347
        }
      ]
    },
    {
      "cell_type": "code",
      "metadata": {
        "id": "vTRRQ3ytaD0E",
        "colab_type": "code",
        "colab": {}
      },
      "source": [
        "texts = df['concat'].tolist()\n",
        "texts_val = df_val['concat'].tolist()\n",
        "texts_test = df_test['concat'].tolist()\n",
        "\n",
        "cvect = CountVectorizer()\n",
        "cout = cvect.fit_transform(texts)\n",
        "cout_val = cvect.transform(texts_val)\n",
        "cout_test = cvect.transform(texts_test)\n",
        "\n",
        "tfidfvect = TfidfTransformer()\n",
        "tout = tfidfvect.fit_transform(cout)\n",
        "tout_val = tfidfvect.transform(cout_val)\n",
        "tout_test = tfidfvect.transform(cout_test)\n",
        "\n",
        "# tout = cout\n",
        "# tout_val = cout_val"
      ],
      "execution_count": 0,
      "outputs": []
    },
    {
      "cell_type": "code",
      "metadata": {
        "id": "jkile79AaHvI",
        "colab_type": "code",
        "colab": {
          "base_uri": "https://localhost:8080/",
          "height": 72
        },
        "outputId": "31ed7713-8f43-4935-e790-c79c2b81ce7f"
      },
      "source": [
        "lrmodel = LogisticRegression(solver='lbfgs').fit(tout,labels)"
      ],
      "execution_count": 349,
      "outputs": [
        {
          "output_type": "stream",
          "text": [
            "/usr/local/lib/python3.6/dist-packages/sklearn/linear_model/logistic.py:469: FutureWarning: Default multi_class will be changed to 'auto' in 0.22. Specify the multi_class option to silence this warning.\n",
            "  \"this warning.\", FutureWarning)\n"
          ],
          "name": "stderr"
        }
      ]
    },
    {
      "cell_type": "code",
      "metadata": {
        "id": "gu4eUlNFaIfT",
        "colab_type": "code",
        "colab": {}
      },
      "source": [
        "pred = lrmodel.predict(tout_test)"
      ],
      "execution_count": 0,
      "outputs": []
    },
    {
      "cell_type": "code",
      "metadata": {
        "id": "Zj9gy6SMaL4U",
        "colab_type": "code",
        "colab": {
          "base_uri": "https://localhost:8080/",
          "height": 34
        },
        "outputId": "d68ecb1f-95a6-49cd-af28-2f004f1233c9"
      },
      "source": [
        "cur = 0\n",
        "for i in range(len(pred)):\n",
        "    if pred[i] == labels_test[i]:\n",
        "        cur += 1\n",
        "\n",
        "print(\"Accuracy: %.2f%%\" % ((cur/float(len(labels_test)) * 100)))"
      ],
      "execution_count": 351,
      "outputs": [
        {
          "output_type": "stream",
          "text": [
            "Accuracy: 23.99%\n"
          ],
          "name": "stdout"
        }
      ]
    },
    {
      "cell_type": "code",
      "metadata": {
        "id": "OOT6oNE4aSdh",
        "colab_type": "code",
        "colab": {}
      },
      "source": [
        "nbmodel = MultinomialNB().fit(tout,labels)"
      ],
      "execution_count": 0,
      "outputs": []
    },
    {
      "cell_type": "code",
      "metadata": {
        "id": "deW_8G5Tabaw",
        "colab_type": "code",
        "colab": {}
      },
      "source": [
        "pred = nbmodel.predict(tout_test)"
      ],
      "execution_count": 0,
      "outputs": []
    },
    {
      "cell_type": "code",
      "metadata": {
        "id": "2vWQ7nguaelp",
        "colab_type": "code",
        "colab": {
          "base_uri": "https://localhost:8080/",
          "height": 34
        },
        "outputId": "692558e8-92a9-4016-c64e-162481c85a21"
      },
      "source": [
        "cur = 0\n",
        "for i in range(len(pred)):\n",
        "    if pred[i] == labels_test[i]:\n",
        "        cur += 1\n",
        "\n",
        "print(\"Accuracy: %.2f%%\" % ((cur/float(len(labels_test)) * 100)))"
      ],
      "execution_count": 354,
      "outputs": [
        {
          "output_type": "stream",
          "text": [
            "Accuracy: 22.10%\n"
          ],
          "name": "stdout"
        }
      ]
    },
    {
      "cell_type": "code",
      "metadata": {
        "id": "NqXjGsNiahHL",
        "colab_type": "code",
        "colab": {}
      },
      "source": [
        "svcmodel = SVC(kernel='linear').fit(tout,labels)"
      ],
      "execution_count": 0,
      "outputs": []
    },
    {
      "cell_type": "code",
      "metadata": {
        "id": "pDLhrQCQan-D",
        "colab_type": "code",
        "colab": {}
      },
      "source": [
        "pred = svcmodel.predict(tout_test)"
      ],
      "execution_count": 0,
      "outputs": []
    },
    {
      "cell_type": "code",
      "metadata": {
        "id": "SRqwpSVQaqKZ",
        "colab_type": "code",
        "colab": {
          "base_uri": "https://localhost:8080/",
          "height": 34
        },
        "outputId": "ca3e99f5-7b6c-40d4-ebf6-e50d0059290f"
      },
      "source": [
        "cur = 0\n",
        "for i in range(len(pred)):\n",
        "    if pred[i] == labels_test[i]:\n",
        "        cur += 1\n",
        "\n",
        "print(\"Accuracy: %.2f%%\" % ((cur/float(len(labels_test)) * 100)))"
      ],
      "execution_count": 357,
      "outputs": [
        {
          "output_type": "stream",
          "text": [
            "Accuracy: 23.28%\n"
          ],
          "name": "stdout"
        }
      ]
    },
    {
      "cell_type": "code",
      "metadata": {
        "id": "-uBGTbrsarhk",
        "colab_type": "code",
        "colab": {
          "base_uri": "https://localhost:8080/",
          "height": 332
        },
        "outputId": "c0e58d97-9073-4682-f953-e1c2394e1192"
      },
      "source": [
        "!pip install gensim"
      ],
      "execution_count": 154,
      "outputs": [
        {
          "output_type": "stream",
          "text": [
            "Requirement already satisfied: gensim in /usr/local/lib/python3.6/dist-packages (3.6.0)\n",
            "Requirement already satisfied: scipy>=0.18.1 in /usr/local/lib/python3.6/dist-packages (from gensim) (1.3.0)\n",
            "Requirement already satisfied: six>=1.5.0 in /usr/local/lib/python3.6/dist-packages (from gensim) (1.12.0)\n",
            "Requirement already satisfied: smart-open>=1.2.1 in /usr/local/lib/python3.6/dist-packages (from gensim) (1.8.4)\n",
            "Requirement already satisfied: numpy>=1.11.3 in /usr/local/lib/python3.6/dist-packages (from gensim) (1.16.4)\n",
            "Requirement already satisfied: boto>=2.32 in /usr/local/lib/python3.6/dist-packages (from smart-open>=1.2.1->gensim) (2.49.0)\n",
            "Requirement already satisfied: requests in /usr/local/lib/python3.6/dist-packages (from smart-open>=1.2.1->gensim) (2.21.0)\n",
            "Requirement already satisfied: boto3 in /usr/local/lib/python3.6/dist-packages (from smart-open>=1.2.1->gensim) (1.9.202)\n",
            "Requirement already satisfied: chardet<3.1.0,>=3.0.2 in /usr/local/lib/python3.6/dist-packages (from requests->smart-open>=1.2.1->gensim) (3.0.4)\n",
            "Requirement already satisfied: urllib3<1.25,>=1.21.1 in /usr/local/lib/python3.6/dist-packages (from requests->smart-open>=1.2.1->gensim) (1.24.3)\n",
            "Requirement already satisfied: certifi>=2017.4.17 in /usr/local/lib/python3.6/dist-packages (from requests->smart-open>=1.2.1->gensim) (2019.6.16)\n",
            "Requirement already satisfied: idna<2.9,>=2.5 in /usr/local/lib/python3.6/dist-packages (from requests->smart-open>=1.2.1->gensim) (2.8)\n",
            "Requirement already satisfied: botocore<1.13.0,>=1.12.202 in /usr/local/lib/python3.6/dist-packages (from boto3->smart-open>=1.2.1->gensim) (1.12.202)\n",
            "Requirement already satisfied: jmespath<1.0.0,>=0.7.1 in /usr/local/lib/python3.6/dist-packages (from boto3->smart-open>=1.2.1->gensim) (0.9.4)\n",
            "Requirement already satisfied: s3transfer<0.3.0,>=0.2.0 in /usr/local/lib/python3.6/dist-packages (from boto3->smart-open>=1.2.1->gensim) (0.2.1)\n",
            "Requirement already satisfied: python-dateutil<3.0.0,>=2.1; python_version >= \"2.7\" in /usr/local/lib/python3.6/dist-packages (from botocore<1.13.0,>=1.12.202->boto3->smart-open>=1.2.1->gensim) (2.5.3)\n",
            "Requirement already satisfied: docutils<0.15,>=0.10 in /usr/local/lib/python3.6/dist-packages (from botocore<1.13.0,>=1.12.202->boto3->smart-open>=1.2.1->gensim) (0.14)\n"
          ],
          "name": "stdout"
        }
      ]
    },
    {
      "cell_type": "markdown",
      "metadata": {
        "id": "ZBtJbA2HcxDz",
        "colab_type": "text"
      },
      "source": [
        "###Word Embedding used for Binary Classification"
      ]
    },
    {
      "cell_type": "code",
      "metadata": {
        "id": "1bazCvHqfMLx",
        "colab_type": "code",
        "colab": {}
      },
      "source": [
        "import gensim"
      ],
      "execution_count": 0,
      "outputs": []
    },
    {
      "cell_type": "code",
      "metadata": {
        "id": "aKKTTKpCiPLg",
        "colab_type": "code",
        "colab": {}
      },
      "source": [
        "df = pd.read_csv(os.getcwd()+'/LIAR-PLUS'+'/dataset'+'/train2.tsv' , sep = '\\t' , header = None)\n",
        "df_val = pd.read_csv(os.getcwd()+'/LIAR-PLUS'+'/dataset'+'/val2.tsv' , sep = '\\t' , header = None)\n",
        "df_test = pd.read_csv(os.getcwd()+'/LIAR-PLUS'+'/dataset'+'/test2.tsv' , sep = '\\t' , header = None)"
      ],
      "execution_count": 0,
      "outputs": []
    },
    {
      "cell_type": "code",
      "metadata": {
        "id": "ksj2Am1PiP7g",
        "colab_type": "code",
        "colab": {}
      },
      "source": [
        "df = df.drop([0,1,4,5,6,7,8,9,10,11,12,13,14,15],axis=1)\n",
        "\n",
        "df_val = df_val.drop([0,1,4,5,6,7,8,9,10,11,12,13,14,15],axis=1)\n",
        "\n",
        "df_test = df_test.drop([0,1,4,5,6,7,8,9,10,11,12,13,14,15],axis=1)\n",
        "\n",
        "df.loc[(df[2] == 'true') , 2] = 5\n",
        "df.loc[(df[2] == 'mostly-true') , 2] = 4\n",
        "df.loc[(df[2] == 'half-true') , 2] = 3\n",
        "df.loc[(df[2] == 'barely-true') , 2] = 2\n",
        "df.loc[(df[2] == 'false') , 2] = 1\n",
        "df.loc[(df[2] == 'pants-fire') , 2] = 0\n",
        "df.columns = ['label','text']\n",
        "\n",
        "df['label'] = (df['label'] > 2).astype(int)\n",
        "\n",
        "df_val.loc[(df_val[2] == 'true') , 2] = 5\n",
        "df_val.loc[(df_val[2] == 'mostly-true') , 2] = 4\n",
        "df_val.loc[(df_val[2] == 'half-true') , 2] = 3\n",
        "df_val.loc[(df_val[2] == 'barely-true') , 2] = 2\n",
        "df_val.loc[(df_val[2] == 'false') , 2] = 1\n",
        "df_val.loc[(df_val[2] == 'pants-fire') , 2] = 0\n",
        "df_val.columns = ['label','text']\n",
        "\n",
        "df_val['label'] = (df_val['label'] > 2).astype(int)\n",
        "\n",
        "df_test.loc[(df_test[2] == 'true') , 2] = 5\n",
        "df_test.loc[(df_test[2] == 'mostly-true') , 2] = 4\n",
        "df_test.loc[(df_test[2] == 'half-true') , 2] = 3\n",
        "df_test.loc[(df_test[2] == 'barely-true') , 2] = 2\n",
        "df_test.loc[(df_test[2] == 'false') , 2] = 1\n",
        "df_test.loc[(df_test[2] == 'pants-fire') , 2] = 0\n",
        "df_test.columns = ['label','text']\n",
        "\n",
        "df_test['label'] = (df_test['label'] > 2).astype(int)\n",
        "df = pd.concat([df,df_val])\n"
      ],
      "execution_count": 0,
      "outputs": []
    },
    {
      "cell_type": "code",
      "metadata": {
        "id": "L9Th7LCTiYRZ",
        "colab_type": "code",
        "colab": {}
      },
      "source": [
        "labels = df['label'].tolist()\n",
        "labels = np.array(labels)\n",
        "labels\n",
        "\n",
        "labels_val = df_val['label'].tolist()\n",
        "labels_val = np.array(labels_val)\n",
        "\n",
        "\n",
        "labels_test = df_test['label'].tolist()\n",
        "labels_test = np.array(labels_test)"
      ],
      "execution_count": 0,
      "outputs": []
    },
    {
      "cell_type": "code",
      "metadata": {
        "id": "-izmElLrid1X",
        "colab_type": "code",
        "colab": {}
      },
      "source": [
        "texts = df['text'].tolist()\n",
        "texts_val = df_val['text'].tolist()\n",
        "texts_test = df_test['text'].tolist()\n"
      ],
      "execution_count": 0,
      "outputs": []
    },
    {
      "cell_type": "code",
      "metadata": {
        "id": "RrALs5R3hzGg",
        "colab_type": "code",
        "colab": {}
      },
      "source": [
        "word2vec = gensim.models.Word2Vec(texts,size = 200, window = 10, min_count = 2, iter = 10)"
      ],
      "execution_count": 0,
      "outputs": []
    },
    {
      "cell_type": "code",
      "metadata": {
        "id": "ENKBDCbpi8q2",
        "colab_type": "code",
        "colab": {}
      },
      "source": [
        "def embed(text):\n",
        "  text = [word for word in text if word in word2vec.wv.vocab]\n",
        "  return np.mean(word2vec[text],axis = 0)"
      ],
      "execution_count": 0,
      "outputs": []
    },
    {
      "cell_type": "code",
      "metadata": {
        "id": "729vuNHxjbxA",
        "colab_type": "code",
        "colab": {
          "base_uri": "https://localhost:8080/",
          "height": 72
        },
        "outputId": "298f2ae5-5b48-47c1-fc70-d03d59e50e22"
      },
      "source": [
        "df['tout'] = df.text.apply(embed)\n",
        "df_test['tout'] = df_test.text.apply(embed)"
      ],
      "execution_count": 365,
      "outputs": [
        {
          "output_type": "stream",
          "text": [
            "/usr/local/lib/python3.6/dist-packages/ipykernel_launcher.py:3: DeprecationWarning: Call to deprecated `__getitem__` (Method will be removed in 4.0.0, use self.wv.__getitem__() instead).\n",
            "  This is separate from the ipykernel package so we can avoid doing imports until\n"
          ],
          "name": "stderr"
        }
      ]
    },
    {
      "cell_type": "code",
      "metadata": {
        "id": "p2p1TKBholaA",
        "colab_type": "code",
        "colab": {}
      },
      "source": [
        "X = list(df['tout'])\n",
        "X_test = list(df_test['tout'])\n"
      ],
      "execution_count": 0,
      "outputs": []
    },
    {
      "cell_type": "code",
      "metadata": {
        "id": "zOJeS0pTjxjQ",
        "colab_type": "code",
        "colab": {}
      },
      "source": [
        "lrmodel = LogisticRegression(solver='lbfgs',max_iter = 200).fit(X,labels)"
      ],
      "execution_count": 0,
      "outputs": []
    },
    {
      "cell_type": "code",
      "metadata": {
        "id": "SoDGacAfj0B1",
        "colab_type": "code",
        "colab": {}
      },
      "source": [
        "pred = lrmodel.predict(X_test)"
      ],
      "execution_count": 0,
      "outputs": []
    },
    {
      "cell_type": "code",
      "metadata": {
        "id": "tnsa3iypkGT3",
        "colab_type": "code",
        "colab": {
          "base_uri": "https://localhost:8080/",
          "height": 34
        },
        "outputId": "8f953b62-a470-4035-bbd5-9971b9abb9a9"
      },
      "source": [
        "cur = 0\n",
        "for i in range(len(pred)):\n",
        "    if pred[i] == labels_test[i]:\n",
        "        cur += 1\n",
        "\n",
        "print(\"Accuracy: %.2f%%\" % ((cur/float(len(labels_test)) * 100)))"
      ],
      "execution_count": 369,
      "outputs": [
        {
          "output_type": "stream",
          "text": [
            "Accuracy: 59.51%\n"
          ],
          "name": "stdout"
        }
      ]
    },
    {
      "cell_type": "code",
      "metadata": {
        "id": "iTP7gFEuuIIv",
        "colab_type": "code",
        "colab": {}
      },
      "source": [
        "svcmodel = SVC(kernel='linear').fit(X,labels)"
      ],
      "execution_count": 0,
      "outputs": []
    },
    {
      "cell_type": "code",
      "metadata": {
        "id": "1CiYr3sWuTZt",
        "colab_type": "code",
        "colab": {}
      },
      "source": [
        "pred1 = svcmodel.predict(X_test)"
      ],
      "execution_count": 0,
      "outputs": []
    },
    {
      "cell_type": "code",
      "metadata": {
        "id": "EkuJ-idnuUqw",
        "colab_type": "code",
        "colab": {
          "base_uri": "https://localhost:8080/",
          "height": 34
        },
        "outputId": "4832ec92-5897-49c2-edf4-57048957aa68"
      },
      "source": [
        "cur = 0\n",
        "for i in range(len(pred)):\n",
        "    if pred1[i] == labels_test[i]:\n",
        "        cur += 1\n",
        "\n",
        "print(\"Accuracy: %.2f%%\" % ((cur/float(len(labels_test)) * 100)))"
      ],
      "execution_count": 372,
      "outputs": [
        {
          "output_type": "stream",
          "text": [
            "Accuracy: 57.93%\n"
          ],
          "name": "stdout"
        }
      ]
    },
    {
      "cell_type": "code",
      "metadata": {
        "id": "tAlyhrUDTJ5W",
        "colab_type": "code",
        "colab": {}
      },
      "source": [
        ""
      ],
      "execution_count": 0,
      "outputs": []
    }
  ]
}
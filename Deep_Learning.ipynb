{
  "nbformat": 4,
  "nbformat_minor": 0,
  "metadata": {
    "colab": {
      "name": "Deep-Learning.ipynb",
      "version": "0.3.2",
      "provenance": []
    },
    "kernelspec": {
      "name": "python3",
      "display_name": "Python 3"
    },
    "accelerator": "GPU"
  },
  "cells": [
    {
      "cell_type": "code",
      "metadata": {
        "id": "nyqvrFKYMzuS",
        "colab_type": "code",
        "colab": {
          "base_uri": "https://localhost:8080/",
          "height": 729
        },
        "outputId": "ed230589-0610-4691-f3e9-ec7a3dfef93c"
      },
      "source": [
        "!pip install fastai"
      ],
      "execution_count": 1,
      "outputs": [
        {
          "output_type": "stream",
          "text": [
            "Requirement already satisfied: fastai in /usr/local/lib/python3.6/dist-packages (1.0.55)\n",
            "Requirement already satisfied: typing; python_version < \"3.7\" in /usr/local/lib/python3.6/dist-packages (from fastai) (3.7.4)\n",
            "Requirement already satisfied: bottleneck in /usr/local/lib/python3.6/dist-packages (from fastai) (1.2.1)\n",
            "Requirement already satisfied: pyyaml in /usr/local/lib/python3.6/dist-packages (from fastai) (3.13)\n",
            "Requirement already satisfied: fastprogress>=0.1.19 in /usr/local/lib/python3.6/dist-packages (from fastai) (0.1.21)\n",
            "Requirement already satisfied: numpy>=1.15 in /usr/local/lib/python3.6/dist-packages (from fastai) (1.16.4)\n",
            "Requirement already satisfied: scipy in /usr/local/lib/python3.6/dist-packages (from fastai) (1.3.0)\n",
            "Requirement already satisfied: torch>=1.0.0 in /usr/local/lib/python3.6/dist-packages (from fastai) (1.1.0)\n",
            "Requirement already satisfied: matplotlib in /usr/local/lib/python3.6/dist-packages (from fastai) (3.0.3)\n",
            "Requirement already satisfied: spacy>=2.0.18 in /usr/local/lib/python3.6/dist-packages (from fastai) (2.1.7)\n",
            "Requirement already satisfied: dataclasses; python_version < \"3.7\" in /usr/local/lib/python3.6/dist-packages (from fastai) (0.6)\n",
            "Requirement already satisfied: packaging in /usr/local/lib/python3.6/dist-packages (from fastai) (19.1)\n",
            "Requirement already satisfied: beautifulsoup4 in /usr/local/lib/python3.6/dist-packages (from fastai) (4.6.3)\n",
            "Requirement already satisfied: Pillow in /usr/local/lib/python3.6/dist-packages (from fastai) (4.3.0)\n",
            "Requirement already satisfied: pandas in /usr/local/lib/python3.6/dist-packages (from fastai) (0.24.2)\n",
            "Requirement already satisfied: nvidia-ml-py3 in /usr/local/lib/python3.6/dist-packages (from fastai) (7.352.0)\n",
            "Requirement already satisfied: numexpr in /usr/local/lib/python3.6/dist-packages (from fastai) (2.6.9)\n",
            "Requirement already satisfied: requests in /usr/local/lib/python3.6/dist-packages (from fastai) (2.21.0)\n",
            "Requirement already satisfied: torchvision in /usr/local/lib/python3.6/dist-packages (from fastai) (0.3.0)\n",
            "Requirement already satisfied: pyparsing!=2.0.4,!=2.1.2,!=2.1.6,>=2.0.1 in /usr/local/lib/python3.6/dist-packages (from matplotlib->fastai) (2.4.2)\n",
            "Requirement already satisfied: python-dateutil>=2.1 in /usr/local/lib/python3.6/dist-packages (from matplotlib->fastai) (2.5.3)\n",
            "Requirement already satisfied: cycler>=0.10 in /usr/local/lib/python3.6/dist-packages (from matplotlib->fastai) (0.10.0)\n",
            "Requirement already satisfied: kiwisolver>=1.0.1 in /usr/local/lib/python3.6/dist-packages (from matplotlib->fastai) (1.1.0)\n",
            "Requirement already satisfied: wasabi<1.1.0,>=0.2.0 in /usr/local/lib/python3.6/dist-packages (from spacy>=2.0.18->fastai) (0.2.2)\n",
            "Requirement already satisfied: thinc<7.1.0,>=7.0.8 in /usr/local/lib/python3.6/dist-packages (from spacy>=2.0.18->fastai) (7.0.8)\n",
            "Requirement already satisfied: preshed<2.1.0,>=2.0.1 in /usr/local/lib/python3.6/dist-packages (from spacy>=2.0.18->fastai) (2.0.1)\n",
            "Requirement already satisfied: blis<0.3.0,>=0.2.2 in /usr/local/lib/python3.6/dist-packages (from spacy>=2.0.18->fastai) (0.2.4)\n",
            "Requirement already satisfied: plac<1.0.0,>=0.9.6 in /usr/local/lib/python3.6/dist-packages (from spacy>=2.0.18->fastai) (0.9.6)\n",
            "Requirement already satisfied: srsly<1.1.0,>=0.0.6 in /usr/local/lib/python3.6/dist-packages (from spacy>=2.0.18->fastai) (0.0.7)\n",
            "Requirement already satisfied: cymem<2.1.0,>=2.0.2 in /usr/local/lib/python3.6/dist-packages (from spacy>=2.0.18->fastai) (2.0.2)\n",
            "Requirement already satisfied: murmurhash<1.1.0,>=0.28.0 in /usr/local/lib/python3.6/dist-packages (from spacy>=2.0.18->fastai) (1.0.2)\n",
            "Requirement already satisfied: six in /usr/local/lib/python3.6/dist-packages (from packaging->fastai) (1.12.0)\n",
            "Requirement already satisfied: attrs in /usr/local/lib/python3.6/dist-packages (from packaging->fastai) (19.1.0)\n",
            "Requirement already satisfied: olefile in /usr/local/lib/python3.6/dist-packages (from Pillow->fastai) (0.46)\n",
            "Requirement already satisfied: pytz>=2011k in /usr/local/lib/python3.6/dist-packages (from pandas->fastai) (2018.9)\n",
            "Requirement already satisfied: certifi>=2017.4.17 in /usr/local/lib/python3.6/dist-packages (from requests->fastai) (2019.6.16)\n",
            "Requirement already satisfied: urllib3<1.25,>=1.21.1 in /usr/local/lib/python3.6/dist-packages (from requests->fastai) (1.24.3)\n",
            "Requirement already satisfied: idna<2.9,>=2.5 in /usr/local/lib/python3.6/dist-packages (from requests->fastai) (2.8)\n",
            "Requirement already satisfied: chardet<3.1.0,>=3.0.2 in /usr/local/lib/python3.6/dist-packages (from requests->fastai) (3.0.4)\n",
            "Requirement already satisfied: setuptools in /usr/local/lib/python3.6/dist-packages (from kiwisolver>=1.0.1->matplotlib->fastai) (41.0.1)\n",
            "Requirement already satisfied: tqdm<5.0.0,>=4.10.0 in /usr/local/lib/python3.6/dist-packages (from thinc<7.1.0,>=7.0.8->spacy>=2.0.18->fastai) (4.28.1)\n"
          ],
          "name": "stdout"
        }
      ]
    },
    {
      "cell_type": "code",
      "metadata": {
        "id": "VeYQMcyPM2TW",
        "colab_type": "code",
        "colab": {}
      },
      "source": [
        "from fastai.text import *"
      ],
      "execution_count": 0,
      "outputs": []
    },
    {
      "cell_type": "code",
      "metadata": {
        "id": "tyCW2lomM7S-",
        "colab_type": "code",
        "colab": {
          "base_uri": "https://localhost:8080/",
          "height": 121
        },
        "outputId": "9cef846e-4dac-4324-9db8-e597ae06e490"
      },
      "source": [
        "!git clone https://github.com/Tariq60/LIAR-PLUS.git"
      ],
      "execution_count": 2,
      "outputs": [
        {
          "output_type": "stream",
          "text": [
            "Cloning into 'LIAR-PLUS'...\n",
            "remote: Enumerating objects: 9, done.\u001b[K\n",
            "remote: Counting objects:  11% (1/9)\u001b[K\rremote: Counting objects:  22% (2/9)\u001b[K\rremote: Counting objects:  33% (3/9)\u001b[K\rremote: Counting objects:  44% (4/9)\u001b[K\rremote: Counting objects:  55% (5/9)\u001b[K\rremote: Counting objects:  66% (6/9)\u001b[K\rremote: Counting objects:  77% (7/9)\u001b[K\rremote: Counting objects:  88% (8/9)\u001b[K\rremote: Counting objects: 100% (9/9)\u001b[K\rremote: Counting objects: 100% (9/9), done.\u001b[K\n",
            "remote: Compressing objects:  11% (1/9)\u001b[K\rremote: Compressing objects:  22% (2/9)\u001b[K\rremote: Compressing objects:  33% (3/9)\u001b[K\rremote: Compressing objects:  44% (4/9)\u001b[K\rremote: Compressing objects:  55% (5/9)\u001b[K\rremote: Compressing objects:  66% (6/9)\u001b[K\rremote: Compressing objects:  77% (7/9)\u001b[K\rremote: Compressing objects:  88% (8/9)\u001b[K\rremote: Compressing objects: 100% (9/9)\u001b[K\rremote: Compressing objects: 100% (9/9), done.\u001b[K\n",
            "remote: Total 77 (delta 2), reused 0 (delta 0), pack-reused 68\u001b[K\n",
            "Unpacking objects: 100% (77/77), done.\n"
          ],
          "name": "stdout"
        }
      ]
    },
    {
      "cell_type": "code",
      "metadata": {
        "id": "gvYM27UHNbYI",
        "colab_type": "code",
        "colab": {
          "base_uri": "https://localhost:8080/",
          "height": 34
        },
        "outputId": "19d2091f-0126-4ebf-b2b9-87a48cbc620c"
      },
      "source": [
        "!pwd"
      ],
      "execution_count": 3,
      "outputs": [
        {
          "output_type": "stream",
          "text": [
            "/content\n"
          ],
          "name": "stdout"
        }
      ]
    },
    {
      "cell_type": "code",
      "metadata": {
        "id": "1yWMSn_PNlHB",
        "colab_type": "code",
        "colab": {
          "base_uri": "https://localhost:8080/",
          "height": 34
        },
        "outputId": "2928e8af-3648-4771-cae9-7ca6b425e374"
      },
      "source": [
        "path = Path('/content/LIAR-PLUS/dataset')\n",
        "path"
      ],
      "execution_count": 4,
      "outputs": [
        {
          "output_type": "execute_result",
          "data": {
            "text/plain": [
              "PosixPath('/content/LIAR-PLUS/dataset')"
            ]
          },
          "metadata": {
            "tags": []
          },
          "execution_count": 4
        }
      ]
    },
    {
      "cell_type": "markdown",
      "metadata": {
        "id": "Sityt0qfbNed",
        "colab_type": "text"
      },
      "source": [
        "###Binary Classification using transfer learning on LSTM network using only statement"
      ]
    },
    {
      "cell_type": "code",
      "metadata": {
        "id": "OxtJXwbpOGpU",
        "colab_type": "code",
        "colab": {
          "base_uri": "https://localhost:8080/",
          "height": 206
        },
        "outputId": "e2d596ca-0009-4780-e038-4d306a5c46b6"
      },
      "source": [
        "df = pd.read_csv(path/'train2.tsv' , sep = '\\t' , header= None)\n",
        "df_val = pd.read_csv(path/'val2.tsv', sep = '\\t' , header = None)\n",
        "df = df.drop([0,1,4,5,6,7,8,9,10,11,12,13,14,15],axis=1)\n",
        "\n",
        "df_val = df_val.drop([0,1,4,5,6,7,8,9,10,11,12,13,14,15],axis=1)\n",
        "\n",
        "df.loc[(df[2] == 'true') , 2] = 5\n",
        "df.loc[(df[2] == 'mostly-true') , 2] = 4\n",
        "df.loc[(df[2] == 'half-true') , 2] = 3\n",
        "df.loc[(df[2] == 'barely-true') , 2] = 2\n",
        "df.loc[(df[2] == 'false') , 2] = 1\n",
        "df.loc[(df[2] == 'pants-fire') , 2] = 0\n",
        "df.columns = ['label','text']\n",
        "\n",
        "df['label'] = (df['label'] > 2).astype(int)\n",
        "\n",
        "df_val.loc[(df_val[2] == 'true') , 2] = 5\n",
        "df_val.loc[(df_val[2] == 'mostly-true') , 2] = 4\n",
        "df_val.loc[(df_val[2] == 'half-true') , 2] = 3\n",
        "df_val.loc[(df_val[2] == 'barely-true') , 2] = 2\n",
        "df_val.loc[(df_val[2] == 'false') , 2] = 1\n",
        "df_val.loc[(df_val[2] == 'pants-fire') , 2] = 0\n",
        "df_val.columns = ['label','text']\n",
        "\n",
        "df_val['label'] = (df_val['label'] > 2).astype(int)\n",
        "\n",
        "df.head()\n",
        "# df.label.unique()\n"
      ],
      "execution_count": 152,
      "outputs": [
        {
          "output_type": "execute_result",
          "data": {
            "text/html": [
              "<div>\n",
              "<style scoped>\n",
              "    .dataframe tbody tr th:only-of-type {\n",
              "        vertical-align: middle;\n",
              "    }\n",
              "\n",
              "    .dataframe tbody tr th {\n",
              "        vertical-align: top;\n",
              "    }\n",
              "\n",
              "    .dataframe thead th {\n",
              "        text-align: right;\n",
              "    }\n",
              "</style>\n",
              "<table border=\"1\" class=\"dataframe\">\n",
              "  <thead>\n",
              "    <tr style=\"text-align: right;\">\n",
              "      <th></th>\n",
              "      <th>label</th>\n",
              "      <th>text</th>\n",
              "    </tr>\n",
              "  </thead>\n",
              "  <tbody>\n",
              "    <tr>\n",
              "      <th>0</th>\n",
              "      <td>0</td>\n",
              "      <td>Says the Annies List political group supports ...</td>\n",
              "    </tr>\n",
              "    <tr>\n",
              "      <th>1</th>\n",
              "      <td>1</td>\n",
              "      <td>When did the decline of coal start? It started...</td>\n",
              "    </tr>\n",
              "    <tr>\n",
              "      <th>2</th>\n",
              "      <td>1</td>\n",
              "      <td>Hillary Clinton agrees with John McCain \"by vo...</td>\n",
              "    </tr>\n",
              "    <tr>\n",
              "      <th>3</th>\n",
              "      <td>0</td>\n",
              "      <td>Health care reform legislation is likely to ma...</td>\n",
              "    </tr>\n",
              "    <tr>\n",
              "      <th>4</th>\n",
              "      <td>1</td>\n",
              "      <td>The economic turnaround started at the end of ...</td>\n",
              "    </tr>\n",
              "  </tbody>\n",
              "</table>\n",
              "</div>"
            ],
            "text/plain": [
              "   label                                               text\n",
              "0      0  Says the Annies List political group supports ...\n",
              "1      1  When did the decline of coal start? It started...\n",
              "2      1  Hillary Clinton agrees with John McCain \"by vo...\n",
              "3      0  Health care reform legislation is likely to ma...\n",
              "4      1  The economic turnaround started at the end of ..."
            ]
          },
          "metadata": {
            "tags": []
          },
          "execution_count": 152
        }
      ]
    },
    {
      "cell_type": "code",
      "metadata": {
        "id": "HYYn_q3dOX3Q",
        "colab_type": "code",
        "colab": {}
      },
      "source": [
        "# Language model data\n",
        "data_lm = TextLMDataBunch.from_df(path,train_df = df ,valid_df = df_val)\n",
        "# Classifier model data\n",
        "data_clas = TextClasDataBunch.from_df(path ,train_df = df ,valid_df = df_val ,vocab=data_lm.train_ds.vocab, bs=8)\n",
        "\n"
      ],
      "execution_count": 0,
      "outputs": []
    },
    {
      "cell_type": "code",
      "metadata": {
        "id": "z8A3nngQQCXn",
        "colab_type": "code",
        "colab": {
          "base_uri": "https://localhost:8080/",
          "height": 112
        },
        "outputId": "333c1922-c928-46a8-db9b-f26e913b9d04"
      },
      "source": [
        "learn = language_model_learner(data_lm, AWD_LSTM, drop_mult=0.7)\n",
        "learn.fit_one_cycle(2, 1e-2)"
      ],
      "execution_count": 154,
      "outputs": [
        {
          "output_type": "display_data",
          "data": {
            "text/html": [
              "<table border=\"1\" class=\"dataframe\">\n",
              "  <thead>\n",
              "    <tr style=\"text-align: left;\">\n",
              "      <th>epoch</th>\n",
              "      <th>train_loss</th>\n",
              "      <th>valid_loss</th>\n",
              "      <th>accuracy</th>\n",
              "      <th>time</th>\n",
              "    </tr>\n",
              "  </thead>\n",
              "  <tbody>\n",
              "    <tr>\n",
              "      <td>0</td>\n",
              "      <td>4.283076</td>\n",
              "      <td>3.490433</td>\n",
              "      <td>0.362919</td>\n",
              "      <td>00:08</td>\n",
              "    </tr>\n",
              "    <tr>\n",
              "      <td>1</td>\n",
              "      <td>3.691448</td>\n",
              "      <td>3.405994</td>\n",
              "      <td>0.373549</td>\n",
              "      <td>00:08</td>\n",
              "    </tr>\n",
              "  </tbody>\n",
              "</table>"
            ],
            "text/plain": [
              "<IPython.core.display.HTML object>"
            ]
          },
          "metadata": {
            "tags": []
          }
        }
      ]
    },
    {
      "cell_type": "code",
      "metadata": {
        "id": "W5rL3PCJWcyB",
        "colab_type": "code",
        "colab": {
          "base_uri": "https://localhost:8080/",
          "height": 112
        },
        "outputId": "8cfdbadc-a3c7-4f52-f60d-231da3c10ee6"
      },
      "source": [
        "learn.unfreeze()\n",
        "learn.fit_one_cycle(2, 1e-3)"
      ],
      "execution_count": 155,
      "outputs": [
        {
          "output_type": "display_data",
          "data": {
            "text/html": [
              "<table border=\"1\" class=\"dataframe\">\n",
              "  <thead>\n",
              "    <tr style=\"text-align: left;\">\n",
              "      <th>epoch</th>\n",
              "      <th>train_loss</th>\n",
              "      <th>valid_loss</th>\n",
              "      <th>accuracy</th>\n",
              "      <th>time</th>\n",
              "    </tr>\n",
              "  </thead>\n",
              "  <tbody>\n",
              "    <tr>\n",
              "      <td>0</td>\n",
              "      <td>3.322602</td>\n",
              "      <td>3.287825</td>\n",
              "      <td>0.386049</td>\n",
              "      <td>00:11</td>\n",
              "    </tr>\n",
              "    <tr>\n",
              "      <td>1</td>\n",
              "      <td>3.182704</td>\n",
              "      <td>3.259063</td>\n",
              "      <td>0.388588</td>\n",
              "      <td>00:12</td>\n",
              "    </tr>\n",
              "  </tbody>\n",
              "</table>"
            ],
            "text/plain": [
              "<IPython.core.display.HTML object>"
            ]
          },
          "metadata": {
            "tags": []
          }
        }
      ]
    },
    {
      "cell_type": "code",
      "metadata": {
        "id": "wBLBVMdfWoGl",
        "colab_type": "code",
        "colab": {}
      },
      "source": [
        "learn.save_encoder('enc')"
      ],
      "execution_count": 0,
      "outputs": []
    },
    {
      "cell_type": "code",
      "metadata": {
        "id": "mMfFl8QFWvZ6",
        "colab_type": "code",
        "colab": {}
      },
      "source": [
        "learn = text_classifier_learner(data_clas, AWD_LSTM, drop_mult=0.7)\n",
        "learn.load_encoder('enc')"
      ],
      "execution_count": 0,
      "outputs": []
    },
    {
      "cell_type": "code",
      "metadata": {
        "id": "vyQn05fKWzwK",
        "colab_type": "code",
        "colab": {
          "base_uri": "https://localhost:8080/",
          "height": 328
        },
        "outputId": "fc68568c-b104-4780-98dc-c8e013f8e292"
      },
      "source": [
        "data_clas.show_batch()"
      ],
      "execution_count": 158,
      "outputs": [
        {
          "output_type": "display_data",
          "data": {
            "text/html": [
              "<table border=\"1\" class=\"dataframe\">\n",
              "  <thead>\n",
              "    <tr style=\"text-align: right;\">\n",
              "      <th>text</th>\n",
              "      <th>target</th>\n",
              "    </tr>\n",
              "  </thead>\n",
              "  <tbody>\n",
              "    <tr>\n",
              "      <td>xxbos xxmaj hospitals , doctors , xxunk , surgeries and so xxunk are more extensively used and far more expensive in this country than they are in many other countries . ' ' \\t health - care \\t mitt - romney \\t xxmaj former governor \\t xxmaj massachusetts \\t republican \\t 34 \\t 32 \\t 58 \\t 33 \\t 19 \\t a xxmaj fox xxmaj news xxmaj sunday interview \\n</td>\n",
              "      <td>1</td>\n",
              "    </tr>\n",
              "    <tr>\n",
              "      <td>xxbos xxmaj the vast majority of the money i got was from small donors all across the country . ' ' \\t campaign - finance \\t barack - obama \\t xxmaj president \\t xxmaj illinois \\t democrat \\t 70 \\t 71 \\t 160 \\t 163 \\t 9 \\t an interview with xxup cnbc 's xxmaj john xxmaj xxunk \\n  xxunk \\t true \\t xxmaj the xxmaj democrat - controlled</td>\n",
              "      <td>0</td>\n",
              "    </tr>\n",
              "    <tr>\n",
              "      <td>xxbos xxmaj after xxmaj hurricane xxmaj katrina , xxmaj dallas and xxmaj san xxmaj antonio took in 5,000 to 10,000 refugees each , but ( xxmaj bill ) xxmaj white brought in 250,000 and put them up in his buddies empty apartment buildings and let the federal government pay their xxunk for over two years . xxmaj they did not return to xxmaj new xxmaj orleans , most of them</td>\n",
              "      <td>0</td>\n",
              "    </tr>\n",
              "    <tr>\n",
              "      <td>xxbos xxmaj chicago xxmaj public xxmaj schools lead the country in high school graduation of an urban school system , match the xxmaj united xxmaj states of xxmaj america in kids graduating high school going on to a four - year college , and are producing eighth - grade leaders in the country in math gains , fourth - grade leaders in reading gains .</td>\n",
              "      <td>1</td>\n",
              "    </tr>\n",
              "    <tr>\n",
              "      <td>xxbos xxmaj washington can not hide from the fact that xxmaj congress hiked the national debt ceiling to $ xxunk trillion . xxmaj they can not hide from the fact . . . that the budget that they re going forward with has more than a $ 5 trillion in debt in it over the next five years .</td>\n",
              "      <td>1</td>\n",
              "    </tr>\n",
              "  </tbody>\n",
              "</table>"
            ],
            "text/plain": [
              "<IPython.core.display.HTML object>"
            ]
          },
          "metadata": {
            "tags": []
          }
        }
      ]
    },
    {
      "cell_type": "code",
      "metadata": {
        "id": "kgx4tpGkW2-f",
        "colab_type": "code",
        "colab": {
          "base_uri": "https://localhost:8080/",
          "height": 112
        },
        "outputId": "6839d34d-ba7e-4c5a-cc24-fc3cb5c0362f"
      },
      "source": [
        "learn.fit_one_cycle(2,5e-3)"
      ],
      "execution_count": 159,
      "outputs": [
        {
          "output_type": "display_data",
          "data": {
            "text/html": [
              "<table border=\"1\" class=\"dataframe\">\n",
              "  <thead>\n",
              "    <tr style=\"text-align: left;\">\n",
              "      <th>epoch</th>\n",
              "      <th>train_loss</th>\n",
              "      <th>valid_loss</th>\n",
              "      <th>accuracy</th>\n",
              "      <th>time</th>\n",
              "    </tr>\n",
              "  </thead>\n",
              "  <tbody>\n",
              "    <tr>\n",
              "      <td>0</td>\n",
              "      <td>0.670780</td>\n",
              "      <td>0.660690</td>\n",
              "      <td>0.612150</td>\n",
              "      <td>00:20</td>\n",
              "    </tr>\n",
              "    <tr>\n",
              "      <td>1</td>\n",
              "      <td>0.668234</td>\n",
              "      <td>0.664342</td>\n",
              "      <td>0.588006</td>\n",
              "      <td>00:21</td>\n",
              "    </tr>\n",
              "  </tbody>\n",
              "</table>"
            ],
            "text/plain": [
              "<IPython.core.display.HTML object>"
            ]
          },
          "metadata": {
            "tags": []
          }
        }
      ]
    },
    {
      "cell_type": "code",
      "metadata": {
        "id": "j11Tnu17W-J5",
        "colab_type": "code",
        "colab": {
          "base_uri": "https://localhost:8080/",
          "height": 80
        },
        "outputId": "27d94852-e4d9-42af-973e-b8551fb23b83"
      },
      "source": [
        "learn.freeze_to(-2)\n",
        "learn.fit_one_cycle(1, slice(1e-3,5e-3))"
      ],
      "execution_count": 160,
      "outputs": [
        {
          "output_type": "display_data",
          "data": {
            "text/html": [
              "<table border=\"1\" class=\"dataframe\">\n",
              "  <thead>\n",
              "    <tr style=\"text-align: left;\">\n",
              "      <th>epoch</th>\n",
              "      <th>train_loss</th>\n",
              "      <th>valid_loss</th>\n",
              "      <th>accuracy</th>\n",
              "      <th>time</th>\n",
              "    </tr>\n",
              "  </thead>\n",
              "  <tbody>\n",
              "    <tr>\n",
              "      <td>0</td>\n",
              "      <td>0.664280</td>\n",
              "      <td>0.667209</td>\n",
              "      <td>0.580997</td>\n",
              "      <td>00:23</td>\n",
              "    </tr>\n",
              "  </tbody>\n",
              "</table>"
            ],
            "text/plain": [
              "<IPython.core.display.HTML object>"
            ]
          },
          "metadata": {
            "tags": []
          }
        }
      ]
    },
    {
      "cell_type": "code",
      "metadata": {
        "id": "-uwyE3C4XHA8",
        "colab_type": "code",
        "colab": {
          "base_uri": "https://localhost:8080/",
          "height": 112
        },
        "outputId": "f0da675e-57bc-4687-851b-a9318ef920f0"
      },
      "source": [
        "learn.unfreeze()\n",
        "learn.fit_one_cycle(2, slice(1e-4, 5e-4))"
      ],
      "execution_count": 161,
      "outputs": [
        {
          "output_type": "display_data",
          "data": {
            "text/html": [
              "<table border=\"1\" class=\"dataframe\">\n",
              "  <thead>\n",
              "    <tr style=\"text-align: left;\">\n",
              "      <th>epoch</th>\n",
              "      <th>train_loss</th>\n",
              "      <th>valid_loss</th>\n",
              "      <th>accuracy</th>\n",
              "      <th>time</th>\n",
              "    </tr>\n",
              "  </thead>\n",
              "  <tbody>\n",
              "    <tr>\n",
              "      <td>0</td>\n",
              "      <td>0.667177</td>\n",
              "      <td>0.660405</td>\n",
              "      <td>0.607477</td>\n",
              "      <td>00:48</td>\n",
              "    </tr>\n",
              "    <tr>\n",
              "      <td>1</td>\n",
              "      <td>0.637833</td>\n",
              "      <td>0.653565</td>\n",
              "      <td>0.623832</td>\n",
              "      <td>00:48</td>\n",
              "    </tr>\n",
              "  </tbody>\n",
              "</table>"
            ],
            "text/plain": [
              "<IPython.core.display.HTML object>"
            ]
          },
          "metadata": {
            "tags": []
          }
        }
      ]
    },
    {
      "cell_type": "markdown",
      "metadata": {
        "id": "OZWGOqoebhZp",
        "colab_type": "text"
      },
      "source": [
        "###6-Way Classification using Tranfer Learning using only statement"
      ]
    },
    {
      "cell_type": "code",
      "metadata": {
        "id": "VAeKfKoBXLtr",
        "colab_type": "code",
        "colab": {
          "base_uri": "https://localhost:8080/",
          "height": 206
        },
        "outputId": "fe5f3baf-4e48-4642-aa7e-65c846f3b6b0"
      },
      "source": [
        "df = pd.read_csv(path/'train2.tsv' , sep = '\\t' , header= None)\n",
        "df_val = pd.read_csv(path/'val2.tsv', sep = '\\t' , header = None)\n",
        "df_test = pd.read_csv(path/'test2.tsv', sep='\\t' , header=None)\n",
        "df = df.drop([0,1,4,5,6,7,8,9,10,11,12,13,14,15],axis=1)\n",
        "\n",
        "df_val = df_val.drop([0,1,4,5,6,7,8,9,10,11,12,13,14,15],axis=1)\n",
        "\n",
        "df_test = df_test.drop([0,1,4,5,6,7,8,9,10,11,12,13,14,15],axis=1)\n",
        "\n",
        "df.loc[(df[2] == 'true') , 2] = 5\n",
        "df.loc[(df[2] == 'mostly-true') , 2] = 4\n",
        "df.loc[(df[2] == 'half-true') , 2] = 3\n",
        "df.loc[(df[2] == 'barely-true') , 2] = 2\n",
        "df.loc[(df[2] == 'false') , 2] = 1\n",
        "df.loc[(df[2] == 'pants-fire') , 2] = 0\n",
        "df.columns = ['label','text']\n",
        "\n",
        "# df['label'] = (df['label'] > 2).astype(int)\n",
        "\n",
        "df_val.loc[(df_val[2] == 'true') , 2] = 5\n",
        "df_val.loc[(df_val[2] == 'mostly-true') , 2] = 4\n",
        "df_val.loc[(df_val[2] == 'half-true') , 2] = 3\n",
        "df_val.loc[(df_val[2] == 'barely-true') , 2] = 2\n",
        "df_val.loc[(df_val[2] == 'false') , 2] = 1\n",
        "df_val.loc[(df_val[2] == 'pants-fire') , 2] = 0\n",
        "df_val.columns = ['label','text']\n",
        "\n",
        "# df_val['label'] = (df_val['label'] > 2).astype(int)\n",
        "\n",
        "\n",
        "df_test.loc[(df_test[2] == 'true') , 2] = 5\n",
        "df_test.loc[(df_test[2] == 'mostly-true') , 2] = 4\n",
        "df_test.loc[(df_test[2] == 'half-true') , 2] = 3\n",
        "df_test.loc[(df_test[2] == 'barely-true') , 2] = 2\n",
        "df_test.loc[(df_test[2] == 'false') , 2] = 1\n",
        "df_test.loc[(df_test[2] == 'pants-fire') , 2] = 0\n",
        "df_test.columns = ['label','text']\n",
        "\n",
        "# df = df.dropna()\n",
        "# df_val = df_val.dropna()\n",
        "df.head()\n",
        "# df.label.unique()\n",
        "# df.count()"
      ],
      "execution_count": 92,
      "outputs": [
        {
          "output_type": "execute_result",
          "data": {
            "text/html": [
              "<div>\n",
              "<style scoped>\n",
              "    .dataframe tbody tr th:only-of-type {\n",
              "        vertical-align: middle;\n",
              "    }\n",
              "\n",
              "    .dataframe tbody tr th {\n",
              "        vertical-align: top;\n",
              "    }\n",
              "\n",
              "    .dataframe thead th {\n",
              "        text-align: right;\n",
              "    }\n",
              "</style>\n",
              "<table border=\"1\" class=\"dataframe\">\n",
              "  <thead>\n",
              "    <tr style=\"text-align: right;\">\n",
              "      <th></th>\n",
              "      <th>label</th>\n",
              "      <th>text</th>\n",
              "    </tr>\n",
              "  </thead>\n",
              "  <tbody>\n",
              "    <tr>\n",
              "      <th>0</th>\n",
              "      <td>1</td>\n",
              "      <td>Says the Annies List political group supports ...</td>\n",
              "    </tr>\n",
              "    <tr>\n",
              "      <th>1</th>\n",
              "      <td>3</td>\n",
              "      <td>When did the decline of coal start? It started...</td>\n",
              "    </tr>\n",
              "    <tr>\n",
              "      <th>2</th>\n",
              "      <td>4</td>\n",
              "      <td>Hillary Clinton agrees with John McCain \"by vo...</td>\n",
              "    </tr>\n",
              "    <tr>\n",
              "      <th>3</th>\n",
              "      <td>1</td>\n",
              "      <td>Health care reform legislation is likely to ma...</td>\n",
              "    </tr>\n",
              "    <tr>\n",
              "      <th>4</th>\n",
              "      <td>3</td>\n",
              "      <td>The economic turnaround started at the end of ...</td>\n",
              "    </tr>\n",
              "  </tbody>\n",
              "</table>\n",
              "</div>"
            ],
            "text/plain": [
              "  label                                               text\n",
              "0     1  Says the Annies List political group supports ...\n",
              "1     3  When did the decline of coal start? It started...\n",
              "2     4  Hillary Clinton agrees with John McCain \"by vo...\n",
              "3     1  Health care reform legislation is likely to ma...\n",
              "4     3  The economic turnaround started at the end of ..."
            ]
          },
          "metadata": {
            "tags": []
          },
          "execution_count": 92
        }
      ]
    },
    {
      "cell_type": "code",
      "metadata": {
        "id": "3qJ3HCL-f8du",
        "colab_type": "code",
        "colab": {}
      },
      "source": [
        "# Language model data\n",
        "data_lm = TextLMDataBunch.from_df(path,train_df = df ,valid_df = df_val , test_df = df_test)\n",
        "# Classifier model data\n",
        "data_clas = TextClasDataBunch.from_df(path ,train_df = df ,valid_df = df_val , test_df = df_test , vocab=data_lm.train_ds.vocab, bs=8)\n"
      ],
      "execution_count": 0,
      "outputs": []
    },
    {
      "cell_type": "code",
      "metadata": {
        "id": "N_uRxX7ZgGR7",
        "colab_type": "code",
        "colab": {
          "base_uri": "https://localhost:8080/",
          "height": 143
        },
        "outputId": "7b99fcdc-cbbd-4ec1-ae28-5542d0c2df7f"
      },
      "source": [
        "learn = language_model_learner(data_lm, AWD_LSTM, drop_mult=0.5)\n",
        "learn.fit_one_cycle(3, 1e-2)"
      ],
      "execution_count": 94,
      "outputs": [
        {
          "output_type": "display_data",
          "data": {
            "text/html": [
              "<table border=\"1\" class=\"dataframe\">\n",
              "  <thead>\n",
              "    <tr style=\"text-align: left;\">\n",
              "      <th>epoch</th>\n",
              "      <th>train_loss</th>\n",
              "      <th>valid_loss</th>\n",
              "      <th>accuracy</th>\n",
              "      <th>time</th>\n",
              "    </tr>\n",
              "  </thead>\n",
              "  <tbody>\n",
              "    <tr>\n",
              "      <td>0</td>\n",
              "      <td>4.316461</td>\n",
              "      <td>3.511127</td>\n",
              "      <td>0.349358</td>\n",
              "      <td>00:08</td>\n",
              "    </tr>\n",
              "    <tr>\n",
              "      <td>1</td>\n",
              "      <td>3.651322</td>\n",
              "      <td>3.359189</td>\n",
              "      <td>0.377372</td>\n",
              "      <td>00:08</td>\n",
              "    </tr>\n",
              "    <tr>\n",
              "      <td>2</td>\n",
              "      <td>3.305683</td>\n",
              "      <td>3.335279</td>\n",
              "      <td>0.379436</td>\n",
              "      <td>00:08</td>\n",
              "    </tr>\n",
              "  </tbody>\n",
              "</table>"
            ],
            "text/plain": [
              "<IPython.core.display.HTML object>"
            ]
          },
          "metadata": {
            "tags": []
          }
        }
      ]
    },
    {
      "cell_type": "code",
      "metadata": {
        "id": "NerBfr7AgKIX",
        "colab_type": "code",
        "colab": {
          "base_uri": "https://localhost:8080/",
          "height": 112
        },
        "outputId": "39b7b7c2-509f-4ec0-cd5b-aa880a69e0fd"
      },
      "source": [
        "learn.unfreeze()\n",
        "learn.fit_one_cycle(2, 1e-3)"
      ],
      "execution_count": 95,
      "outputs": [
        {
          "output_type": "display_data",
          "data": {
            "text/html": [
              "<table border=\"1\" class=\"dataframe\">\n",
              "  <thead>\n",
              "    <tr style=\"text-align: left;\">\n",
              "      <th>epoch</th>\n",
              "      <th>train_loss</th>\n",
              "      <th>valid_loss</th>\n",
              "      <th>accuracy</th>\n",
              "      <th>time</th>\n",
              "    </tr>\n",
              "  </thead>\n",
              "  <tbody>\n",
              "    <tr>\n",
              "      <td>0</td>\n",
              "      <td>3.056601</td>\n",
              "      <td>3.263472</td>\n",
              "      <td>0.387528</td>\n",
              "      <td>00:12</td>\n",
              "    </tr>\n",
              "    <tr>\n",
              "      <td>1</td>\n",
              "      <td>2.884382</td>\n",
              "      <td>3.247146</td>\n",
              "      <td>0.390039</td>\n",
              "      <td>00:12</td>\n",
              "    </tr>\n",
              "  </tbody>\n",
              "</table>"
            ],
            "text/plain": [
              "<IPython.core.display.HTML object>"
            ]
          },
          "metadata": {
            "tags": []
          }
        }
      ]
    },
    {
      "cell_type": "code",
      "metadata": {
        "id": "4BB47DB9gObp",
        "colab_type": "code",
        "colab": {}
      },
      "source": [
        "learn.save_encoder('enc1')"
      ],
      "execution_count": 0,
      "outputs": []
    },
    {
      "cell_type": "code",
      "metadata": {
        "id": "oLSJjLZ4gRvT",
        "colab_type": "code",
        "colab": {}
      },
      "source": [
        "learn = text_classifier_learner(data_clas, AWD_LSTM, drop_mult=0.5)\n",
        "learn.load_encoder('enc1')"
      ],
      "execution_count": 0,
      "outputs": []
    },
    {
      "cell_type": "code",
      "metadata": {
        "id": "EXg4kNaOgSa8",
        "colab_type": "code",
        "colab": {
          "base_uri": "https://localhost:8080/",
          "height": 328
        },
        "outputId": "a7bcd6cf-b3cb-45ad-8d86-b02cff33bce1"
      },
      "source": [
        "data_clas.show_batch()"
      ],
      "execution_count": 98,
      "outputs": [
        {
          "output_type": "display_data",
          "data": {
            "text/html": [
              "<table border=\"1\" class=\"dataframe\">\n",
              "  <thead>\n",
              "    <tr style=\"text-align: right;\">\n",
              "      <th>text</th>\n",
              "      <th>target</th>\n",
              "    </tr>\n",
              "  </thead>\n",
              "  <tbody>\n",
              "    <tr>\n",
              "      <td>xxbos xxmaj hospitals , doctors , xxunk , surgeries and so xxunk are more extensively used and far more expensive in this country than they are in many other countries . ' ' \\t health - care \\t mitt - romney \\t xxmaj former governor \\t xxmaj massachusetts \\t republican \\t 34 \\t 32 \\t 58 \\t 33 \\t 19 \\t a xxmaj fox xxmaj news xxmaj sunday interview \\n</td>\n",
              "      <td>4</td>\n",
              "    </tr>\n",
              "    <tr>\n",
              "      <td>xxbos xxmaj people want the minimum wage , they want marriage equality , they want womens health care . xxmaj there s issues that actually that really do matter , social issues that matter to the people of this state . xxmaj so i know xxmaj barbara would support those issues , i know the governor has nt . xxmaj you ve seen the actions he s taken on them</td>\n",
              "      <td>4</td>\n",
              "    </tr>\n",
              "    <tr>\n",
              "      <td>xxbos xxmaj if you give guns to gangs , you can get out of jail free , if ( xxmaj californias xxmaj proposition 57 ) passes . xxmaj if you do a drive - by shooting , you can get out of jail free , if xxmaj proposition 57 passes . xxmaj if you discharge guns on a school xxunk , you can get out of jail free .</td>\n",
              "      <td>1</td>\n",
              "    </tr>\n",
              "    <tr>\n",
              "      <td>xxbos xxmaj in the mid 1990s , in our state , ( xxmaj florida was ) xxmaj no . 1 in violent crime in xxmaj america . ... xxmaj the only xxunk i had was for the citizens of xxmaj florida , who were xxunk to a violent crime every three minutes and 45 seconds .</td>\n",
              "      <td>5</td>\n",
              "    </tr>\n",
              "    <tr>\n",
              "      <td>xxbos xxmaj after taking hundreds of thousands of dollars from xxmaj goldman xxmaj sachs and other xxmaj wall xxmaj street banks , ( xxmaj debbie xxmaj wasserman xxmaj schultz ) has voted to prevent the xxmaj consumer xxmaj financial xxmaj protection xxmaj bureau from regulating payday loans and addressing racial discrimination in car loans .</td>\n",
              "      <td>4</td>\n",
              "    </tr>\n",
              "  </tbody>\n",
              "</table>"
            ],
            "text/plain": [
              "<IPython.core.display.HTML object>"
            ]
          },
          "metadata": {
            "tags": []
          }
        }
      ]
    },
    {
      "cell_type": "code",
      "metadata": {
        "id": "gAvTygp8gUjN",
        "colab_type": "code",
        "colab": {
          "base_uri": "https://localhost:8080/",
          "height": 112
        },
        "outputId": "0ccbbf6a-e153-4b7d-9846-144ff65c0a68"
      },
      "source": [
        "learn.fit_one_cycle(2,1e-2)"
      ],
      "execution_count": 99,
      "outputs": [
        {
          "output_type": "display_data",
          "data": {
            "text/html": [
              "<table border=\"1\" class=\"dataframe\">\n",
              "  <thead>\n",
              "    <tr style=\"text-align: left;\">\n",
              "      <th>epoch</th>\n",
              "      <th>train_loss</th>\n",
              "      <th>valid_loss</th>\n",
              "      <th>accuracy</th>\n",
              "      <th>time</th>\n",
              "    </tr>\n",
              "  </thead>\n",
              "  <tbody>\n",
              "    <tr>\n",
              "      <td>0</td>\n",
              "      <td>1.730492</td>\n",
              "      <td>1.742059</td>\n",
              "      <td>0.238318</td>\n",
              "      <td>00:20</td>\n",
              "    </tr>\n",
              "    <tr>\n",
              "      <td>1</td>\n",
              "      <td>1.727738</td>\n",
              "      <td>1.774445</td>\n",
              "      <td>0.247664</td>\n",
              "      <td>00:20</td>\n",
              "    </tr>\n",
              "  </tbody>\n",
              "</table>"
            ],
            "text/plain": [
              "<IPython.core.display.HTML object>"
            ]
          },
          "metadata": {
            "tags": []
          }
        }
      ]
    },
    {
      "cell_type": "code",
      "metadata": {
        "id": "15qIy0RGgWkq",
        "colab_type": "code",
        "colab": {
          "base_uri": "https://localhost:8080/",
          "height": 80
        },
        "outputId": "5dfe5a18-ef42-4606-dcf2-bea2338cef80"
      },
      "source": [
        "learn.freeze_to(-2)\n",
        "learn.fit_one_cycle(1, slice(5e-3/2., 5e-3))"
      ],
      "execution_count": 100,
      "outputs": [
        {
          "output_type": "display_data",
          "data": {
            "text/html": [
              "<table border=\"1\" class=\"dataframe\">\n",
              "  <thead>\n",
              "    <tr style=\"text-align: left;\">\n",
              "      <th>epoch</th>\n",
              "      <th>train_loss</th>\n",
              "      <th>valid_loss</th>\n",
              "      <th>accuracy</th>\n",
              "      <th>time</th>\n",
              "    </tr>\n",
              "  </thead>\n",
              "  <tbody>\n",
              "    <tr>\n",
              "      <td>0</td>\n",
              "      <td>1.717391</td>\n",
              "      <td>1.778294</td>\n",
              "      <td>0.261682</td>\n",
              "      <td>00:24</td>\n",
              "    </tr>\n",
              "  </tbody>\n",
              "</table>"
            ],
            "text/plain": [
              "<IPython.core.display.HTML object>"
            ]
          },
          "metadata": {
            "tags": []
          }
        }
      ]
    },
    {
      "cell_type": "code",
      "metadata": {
        "id": "magpIDl9ga7A",
        "colab_type": "code",
        "colab": {
          "base_uri": "https://localhost:8080/",
          "height": 80
        },
        "outputId": "ad7ba7c3-6db8-4b73-c45c-bdc810cf5387"
      },
      "source": [
        "learn.unfreeze()\n",
        "learn.fit_one_cycle(1, slice(2e-3/100, 2e-3))"
      ],
      "execution_count": 101,
      "outputs": [
        {
          "output_type": "display_data",
          "data": {
            "text/html": [
              "<table border=\"1\" class=\"dataframe\">\n",
              "  <thead>\n",
              "    <tr style=\"text-align: left;\">\n",
              "      <th>epoch</th>\n",
              "      <th>train_loss</th>\n",
              "      <th>valid_loss</th>\n",
              "      <th>accuracy</th>\n",
              "      <th>time</th>\n",
              "    </tr>\n",
              "  </thead>\n",
              "  <tbody>\n",
              "    <tr>\n",
              "      <td>0</td>\n",
              "      <td>1.678621</td>\n",
              "      <td>1.816608</td>\n",
              "      <td>0.267134</td>\n",
              "      <td>00:48</td>\n",
              "    </tr>\n",
              "  </tbody>\n",
              "</table>"
            ],
            "text/plain": [
              "<IPython.core.display.HTML object>"
            ]
          },
          "metadata": {
            "tags": []
          }
        }
      ]
    },
    {
      "cell_type": "code",
      "metadata": {
        "id": "D-j7iTi6tk9p",
        "colab_type": "code",
        "colab": {
          "base_uri": "https://localhost:8080/",
          "height": 156
        },
        "outputId": "3225d277-564c-4be6-bfac-26eda5cf8ced"
      },
      "source": [
        "pred1 = learn.get_preds(ds_type = DatasetType.Test,ordered = True)\n",
        "pred1"
      ],
      "execution_count": 102,
      "outputs": [
        {
          "output_type": "execute_result",
          "data": {
            "text/plain": [
              "[tensor([[0.0499, 0.2285, 0.1457, 0.2355, 0.1976, 0.1428],\n",
              "         [0.0300, 0.1419, 0.1319, 0.2305, 0.2575, 0.2081],\n",
              "         [0.0924, 0.1968, 0.1680, 0.1844, 0.1768, 0.1817],\n",
              "         ...,\n",
              "         [0.0510, 0.1742, 0.1929, 0.2594, 0.1769, 0.1457],\n",
              "         [0.0637, 0.1989, 0.1887, 0.2217, 0.1783, 0.1487],\n",
              "         [0.0736, 0.2165, 0.1967, 0.2199, 0.1512, 0.1421]]),\n",
              " tensor([0, 0, 0,  ..., 0, 0, 0])]"
            ]
          },
          "metadata": {
            "tags": []
          },
          "execution_count": 102
        }
      ]
    },
    {
      "cell_type": "markdown",
      "metadata": {
        "id": "5HqC-JQlboNp",
        "colab_type": "text"
      },
      "source": [
        "###6-Way Classification using both the statement and the justification"
      ]
    },
    {
      "cell_type": "code",
      "metadata": {
        "id": "COdVUYC4ge8y",
        "colab_type": "code",
        "colab": {
          "base_uri": "https://localhost:8080/",
          "height": 69
        },
        "outputId": "80e7a810-be06-4182-83f4-af81cc889126"
      },
      "source": [
        "df = pd.read_csv(path/'train2.tsv' , sep = '\\t' , header= None)\n",
        "df_val = pd.read_csv(path/'val2.tsv', sep = '\\t' , header = None)\n",
        "df_test = pd.read_csv(path/'test2.tsv', sep='\\t' , header=None)\n",
        "df = df.drop([0,1,4,5,6,7,8,9,10,11,12,13,14],axis=1)\n",
        "\n",
        "df_val = df_val.drop([0,1,4,5,6,7,8,9,10,11,12,13,14],axis=1)\n",
        "\n",
        "df_test = df_test.drop([0,1,4,5,6,7,8,9,10,11,12,13,14],axis=1)\n",
        "\n",
        "df.loc[(df[2] == 'true') , 2] = 5\n",
        "df.loc[(df[2] == 'mostly-true') , 2] = 4\n",
        "df.loc[(df[2] == 'half-true') , 2] = 3\n",
        "df.loc[(df[2] == 'barely-true') , 2] = 2\n",
        "df.loc[(df[2] == 'false') , 2] = 1\n",
        "df.loc[(df[2] == 'pants-fire') , 2] = 0\n",
        "df.columns = ['label','text','just']\n",
        "\n",
        "# df['label'] = (df['label'] > 2).astype(int)\n",
        "\n",
        "df_val.loc[(df_val[2] == 'true') , 2] = 5\n",
        "df_val.loc[(df_val[2] == 'mostly-true') , 2] = 4\n",
        "df_val.loc[(df_val[2] == 'half-true') , 2] = 3\n",
        "df_val.loc[(df_val[2] == 'barely-true') , 2] = 2\n",
        "df_val.loc[(df_val[2] == 'false') , 2] = 1\n",
        "df_val.loc[(df_val[2] == 'pants-fire') , 2] = 0\n",
        "df_val.columns = ['label','text','just']\n",
        "\n",
        "# df_val['label'] = (df_val['label'] > 2).astype(int)\n",
        "\n",
        "\n",
        "df_test.loc[(df_test[2] == 'true') , 2] = 5\n",
        "df_test.loc[(df_test[2] == 'mostly-true') , 2] = 4\n",
        "df_test.loc[(df_test[2] == 'half-true') , 2] = 3\n",
        "df_test.loc[(df_test[2] == 'barely-true') , 2] = 2\n",
        "df_test.loc[(df_test[2] == 'false') , 2] = 1\n",
        "df_test.loc[(df_test[2] == 'pants-fire') , 2] = 0\n",
        "df_test.columns = ['label','text','just']\n",
        "\n",
        "# df = df.dropna()\n",
        "# df_val = df_val.dropna()\n",
        "# df_test = df_test.dropna()\n",
        "# df.head()\n",
        "# df.label.unique()\n",
        "# df_test.count()\n",
        "\n",
        "df['just'] = df['just'].combine_first(df['text'])\n",
        "df_val['just'] = df_val['just'].combine_first(df_val['text'])\n",
        "df_test['just'] = df_test['just'].combine_first(df_test['text'])\n",
        "\n",
        "df = df.drop(['text'],axis=1)\n",
        "df_val = df_val.drop(['text'],axis=1)\n",
        "df_test = df_test.drop(['text'],axis=1)\n",
        "df.count()"
      ],
      "execution_count": 104,
      "outputs": [
        {
          "output_type": "execute_result",
          "data": {
            "text/plain": [
              "label    10240\n",
              "just     10240\n",
              "dtype: int64"
            ]
          },
          "metadata": {
            "tags": []
          },
          "execution_count": 104
        }
      ]
    },
    {
      "cell_type": "code",
      "metadata": {
        "id": "f3zii4bptGZW",
        "colab_type": "code",
        "colab": {}
      },
      "source": [
        "# Language model data\n",
        "data_lm = TextLMDataBunch.from_df(path,train_df = df ,valid_df = df_val , test_df = df_test)\n",
        "# Classifier model data\n",
        "data_clas = TextClasDataBunch.from_df(path ,train_df = df ,valid_df = df_val , test_df = df_test , vocab=data_lm.train_ds.vocab, bs=8)\n"
      ],
      "execution_count": 0,
      "outputs": []
    },
    {
      "cell_type": "code",
      "metadata": {
        "id": "vrQ-fpOMtKPk",
        "colab_type": "code",
        "colab": {
          "base_uri": "https://localhost:8080/",
          "height": 143
        },
        "outputId": "c4c38f2c-3f0d-4997-be39-8adb588d7a2f"
      },
      "source": [
        "learn = language_model_learner(data_lm, AWD_LSTM, drop_mult=0.7)\n",
        "learn.fit_one_cycle(3, 1e-2)"
      ],
      "execution_count": 106,
      "outputs": [
        {
          "output_type": "display_data",
          "data": {
            "text/html": [
              "<table border=\"1\" class=\"dataframe\">\n",
              "  <thead>\n",
              "    <tr style=\"text-align: left;\">\n",
              "      <th>epoch</th>\n",
              "      <th>train_loss</th>\n",
              "      <th>valid_loss</th>\n",
              "      <th>accuracy</th>\n",
              "      <th>time</th>\n",
              "    </tr>\n",
              "  </thead>\n",
              "  <tbody>\n",
              "    <tr>\n",
              "      <td>0</td>\n",
              "      <td>4.108919</td>\n",
              "      <td>3.764016</td>\n",
              "      <td>0.309317</td>\n",
              "      <td>00:39</td>\n",
              "    </tr>\n",
              "    <tr>\n",
              "      <td>1</td>\n",
              "      <td>3.789429</td>\n",
              "      <td>3.660683</td>\n",
              "      <td>0.319610</td>\n",
              "      <td>00:40</td>\n",
              "    </tr>\n",
              "    <tr>\n",
              "      <td>2</td>\n",
              "      <td>3.503769</td>\n",
              "      <td>3.632346</td>\n",
              "      <td>0.323223</td>\n",
              "      <td>00:41</td>\n",
              "    </tr>\n",
              "  </tbody>\n",
              "</table>"
            ],
            "text/plain": [
              "<IPython.core.display.HTML object>"
            ]
          },
          "metadata": {
            "tags": []
          }
        }
      ]
    },
    {
      "cell_type": "code",
      "metadata": {
        "id": "YCeMXNRutSq8",
        "colab_type": "code",
        "colab": {
          "base_uri": "https://localhost:8080/",
          "height": 112
        },
        "outputId": "1d70bbcd-7f7b-49f5-b5ba-4c1363405cac"
      },
      "source": [
        "learn.unfreeze()\n",
        "learn.fit_one_cycle(2, 1e-3)"
      ],
      "execution_count": 107,
      "outputs": [
        {
          "output_type": "display_data",
          "data": {
            "text/html": [
              "<table border=\"1\" class=\"dataframe\">\n",
              "  <thead>\n",
              "    <tr style=\"text-align: left;\">\n",
              "      <th>epoch</th>\n",
              "      <th>train_loss</th>\n",
              "      <th>valid_loss</th>\n",
              "      <th>accuracy</th>\n",
              "      <th>time</th>\n",
              "    </tr>\n",
              "  </thead>\n",
              "  <tbody>\n",
              "    <tr>\n",
              "      <td>0</td>\n",
              "      <td>3.381448</td>\n",
              "      <td>3.565887</td>\n",
              "      <td>0.333061</td>\n",
              "      <td>00:54</td>\n",
              "    </tr>\n",
              "    <tr>\n",
              "      <td>1</td>\n",
              "      <td>3.210445</td>\n",
              "      <td>3.538427</td>\n",
              "      <td>0.337260</td>\n",
              "      <td>00:55</td>\n",
              "    </tr>\n",
              "  </tbody>\n",
              "</table>"
            ],
            "text/plain": [
              "<IPython.core.display.HTML object>"
            ]
          },
          "metadata": {
            "tags": []
          }
        }
      ]
    },
    {
      "cell_type": "code",
      "metadata": {
        "id": "1iG_eH9gtTip",
        "colab_type": "code",
        "colab": {}
      },
      "source": [
        "learn.save_encoder('enc1')"
      ],
      "execution_count": 0,
      "outputs": []
    },
    {
      "cell_type": "code",
      "metadata": {
        "id": "b-26tSf6tWXx",
        "colab_type": "code",
        "colab": {}
      },
      "source": [
        "learn = text_classifier_learner(data_clas, AWD_LSTM, drop_mult=0.7)\n",
        "learn.load_encoder('enc1')"
      ],
      "execution_count": 0,
      "outputs": []
    },
    {
      "cell_type": "code",
      "metadata": {
        "id": "Li7c7_U8tYtL",
        "colab_type": "code",
        "colab": {
          "base_uri": "https://localhost:8080/",
          "height": 380
        },
        "outputId": "5ae45636-26cf-4892-eca5-c74a3c1c9b36"
      },
      "source": [
        "data_clas.show_batch()"
      ],
      "execution_count": 110,
      "outputs": [
        {
          "output_type": "display_data",
          "data": {
            "text/html": [
              "<table border=\"1\" class=\"dataframe\">\n",
              "  <thead>\n",
              "    <tr style=\"text-align: right;\">\n",
              "      <th>text</th>\n",
              "      <th>target</th>\n",
              "    </tr>\n",
              "  </thead>\n",
              "  <tbody>\n",
              "    <tr>\n",
              "      <td>xxbos xxmaj trump said , \" i do n't know anything about xxmaj david xxmaj duke . \" xxmaj trump seems to have forgotten that he knew enough about xxmaj duke to denounce him twice this election cycle . xxmaj in 2000 , he knew enough to criticize xxmaj xxunk racism . xxmaj and in 1991 , he knew enough to say he hated what votes for xxmaj duke represented</td>\n",
              "      <td>4</td>\n",
              "    </tr>\n",
              "    <tr>\n",
              "      <td>xxbos xxmaj watson said , \" xxmaj more lives are lost from violence against women , sex - selective abortion , female infanticide , suicide , egregious maternal mortality , and other sex - linked causes than were lost during all of the wars and civil strife of 20th century . \" xxmaj that s 10 million more than her estimate of lives lost in all of last xxunk strife</td>\n",
              "      <td>4</td>\n",
              "    </tr>\n",
              "    <tr>\n",
              "      <td>xxbos xxmaj the xxmaj daily xxmaj caller said that the xxmaj clinton xxmaj foundation and the xxmaj clinton xxmaj health xxmaj access xxmaj initiative distributed \" watered - down xxup hiv / xxup aids drugs to patients in sub - xxmaj saharan xxmaj africa . \" xxmaj at the most literal level , the statement is a misreading of a report from a conservative xxmaj republican who said the foundation</td>\n",
              "      <td>1</td>\n",
              "    </tr>\n",
              "    <tr>\n",
              "      <td>xxbos xxmaj first , xxmaj dorworth oversimplified things when he said xxmaj florida reviews local land use decisions . xxmaj the state review is of changes to comprehensive plans . xxmaj second , xxmaj dorworth said only that xxunk be right that xxmaj florida is the only state in the country with a state review procedure . xxmaj our analysis shows that xxmaj florida has a unique form of state</td>\n",
              "      <td>2</td>\n",
              "    </tr>\n",
              "    <tr>\n",
              "      <td>xxbos xxmaj republican xxmaj senate candidate xxmaj barry xxmaj hinckley said , \" 30 percent of [ xxmaj sheldon xxmaj whitehouse 's campaign ] money is coming from special interests . \" xxmaj if xxmaj hinckley was referring exclusively to political action committees , we would rate his statement xxmaj true . xxmaj but \" special - interest group \" is a broader -- if ill - defined -- category</td>\n",
              "      <td>2</td>\n",
              "    </tr>\n",
              "  </tbody>\n",
              "</table>"
            ],
            "text/plain": [
              "<IPython.core.display.HTML object>"
            ]
          },
          "metadata": {
            "tags": []
          }
        }
      ]
    },
    {
      "cell_type": "code",
      "metadata": {
        "id": "q-zFget2tb33",
        "colab_type": "code",
        "colab": {
          "base_uri": "https://localhost:8080/",
          "height": 112
        },
        "outputId": "a7dff9e9-04f8-4333-984f-16cb7cf8082b"
      },
      "source": [
        "learn.fit_one_cycle(2,1e-2)"
      ],
      "execution_count": 111,
      "outputs": [
        {
          "output_type": "display_data",
          "data": {
            "text/html": [
              "<table border=\"1\" class=\"dataframe\">\n",
              "  <thead>\n",
              "    <tr style=\"text-align: left;\">\n",
              "      <th>epoch</th>\n",
              "      <th>train_loss</th>\n",
              "      <th>valid_loss</th>\n",
              "      <th>accuracy</th>\n",
              "      <th>time</th>\n",
              "    </tr>\n",
              "  </thead>\n",
              "  <tbody>\n",
              "    <tr>\n",
              "      <td>0</td>\n",
              "      <td>1.747650</td>\n",
              "      <td>1.797260</td>\n",
              "      <td>0.191589</td>\n",
              "      <td>01:00</td>\n",
              "    </tr>\n",
              "    <tr>\n",
              "      <td>1</td>\n",
              "      <td>1.747124</td>\n",
              "      <td>1.778223</td>\n",
              "      <td>0.199377</td>\n",
              "      <td>01:00</td>\n",
              "    </tr>\n",
              "  </tbody>\n",
              "</table>"
            ],
            "text/plain": [
              "<IPython.core.display.HTML object>"
            ]
          },
          "metadata": {
            "tags": []
          }
        }
      ]
    },
    {
      "cell_type": "code",
      "metadata": {
        "id": "3LcBjDojteWX",
        "colab_type": "code",
        "colab": {
          "base_uri": "https://localhost:8080/",
          "height": 80
        },
        "outputId": "7207fb18-a83a-417e-d469-1178310c2340"
      },
      "source": [
        "learn.freeze_to(-2)\n",
        "learn.fit_one_cycle(1, slice(5e-3/2., 5e-3))"
      ],
      "execution_count": 112,
      "outputs": [
        {
          "output_type": "display_data",
          "data": {
            "text/html": [
              "<table border=\"1\" class=\"dataframe\">\n",
              "  <thead>\n",
              "    <tr style=\"text-align: left;\">\n",
              "      <th>epoch</th>\n",
              "      <th>train_loss</th>\n",
              "      <th>valid_loss</th>\n",
              "      <th>accuracy</th>\n",
              "      <th>time</th>\n",
              "    </tr>\n",
              "  </thead>\n",
              "  <tbody>\n",
              "    <tr>\n",
              "      <td>0</td>\n",
              "      <td>1.737710</td>\n",
              "      <td>1.762939</td>\n",
              "      <td>0.218069</td>\n",
              "      <td>01:08</td>\n",
              "    </tr>\n",
              "  </tbody>\n",
              "</table>"
            ],
            "text/plain": [
              "<IPython.core.display.HTML object>"
            ]
          },
          "metadata": {
            "tags": []
          }
        }
      ]
    },
    {
      "cell_type": "code",
      "metadata": {
        "id": "UyBjaTJPtg9m",
        "colab_type": "code",
        "colab": {
          "base_uri": "https://localhost:8080/",
          "height": 80
        },
        "outputId": "51e4d350-c830-4f56-d62f-d86b4f8df7ea"
      },
      "source": [
        "learn.unfreeze()\n",
        "learn.fit_one_cycle(1, slice(2e-3/100, 2e-3))"
      ],
      "execution_count": 113,
      "outputs": [
        {
          "output_type": "display_data",
          "data": {
            "text/html": [
              "<table border=\"1\" class=\"dataframe\">\n",
              "  <thead>\n",
              "    <tr style=\"text-align: left;\">\n",
              "      <th>epoch</th>\n",
              "      <th>train_loss</th>\n",
              "      <th>valid_loss</th>\n",
              "      <th>accuracy</th>\n",
              "      <th>time</th>\n",
              "    </tr>\n",
              "  </thead>\n",
              "  <tbody>\n",
              "    <tr>\n",
              "      <td>0</td>\n",
              "      <td>1.764555</td>\n",
              "      <td>1.809247</td>\n",
              "      <td>0.211838</td>\n",
              "      <td>02:19</td>\n",
              "    </tr>\n",
              "  </tbody>\n",
              "</table>"
            ],
            "text/plain": [
              "<IPython.core.display.HTML object>"
            ]
          },
          "metadata": {
            "tags": []
          }
        }
      ]
    },
    {
      "cell_type": "code",
      "metadata": {
        "id": "SOXuegH8Owhv",
        "colab_type": "code",
        "colab": {
          "base_uri": "https://localhost:8080/",
          "height": 156
        },
        "outputId": "24aebef0-6ffd-4e7a-9e87-bc3b90c45af1"
      },
      "source": [
        "pred2 = learn.get_preds(ds_type = DatasetType.Test,ordered = True)\n",
        "pred2"
      ],
      "execution_count": 114,
      "outputs": [
        {
          "output_type": "execute_result",
          "data": {
            "text/plain": [
              "[tensor([[0.0865, 0.1498, 0.1850, 0.2059, 0.2301, 0.1427],\n",
              "         [0.0793, 0.1756, 0.1762, 0.2092, 0.2137, 0.1460],\n",
              "         [0.0755, 0.2010, 0.1660, 0.1996, 0.1950, 0.1629],\n",
              "         ...,\n",
              "         [0.0912, 0.1649, 0.1694, 0.2002, 0.2030, 0.1715],\n",
              "         [0.0706, 0.1900, 0.1591, 0.2099, 0.2041, 0.1663],\n",
              "         [0.0764, 0.1909, 0.1760, 0.1965, 0.1991, 0.1610]]),\n",
              " tensor([0, 0, 0,  ..., 0, 0, 0])]"
            ]
          },
          "metadata": {
            "tags": []
          },
          "execution_count": 114
        }
      ]
    },
    {
      "cell_type": "code",
      "metadata": {
        "id": "fIGvJ4PvVNdH",
        "colab_type": "code",
        "colab": {
          "base_uri": "https://localhost:8080/",
          "height": 34
        },
        "outputId": "ca56aadd-5f37-4bc4-e30e-f50a2fd48501"
      },
      "source": [
        "pred2[1].size()"
      ],
      "execution_count": 124,
      "outputs": [
        {
          "output_type": "execute_result",
          "data": {
            "text/plain": [
              "torch.Size([1267])"
            ]
          },
          "metadata": {
            "tags": []
          },
          "execution_count": 124
        }
      ]
    },
    {
      "cell_type": "code",
      "metadata": {
        "id": "1HDwskGfVOuA",
        "colab_type": "code",
        "colab": {
          "base_uri": "https://localhost:8080/",
          "height": 34
        },
        "outputId": "58439a90-4771-4e23-efad-74dac5eba9d3"
      },
      "source": [
        "pred1[1].size()"
      ],
      "execution_count": 125,
      "outputs": [
        {
          "output_type": "execute_result",
          "data": {
            "text/plain": [
              "torch.Size([1267])"
            ]
          },
          "metadata": {
            "tags": []
          },
          "execution_count": 125
        }
      ]
    },
    {
      "cell_type": "code",
      "metadata": {
        "id": "Nfzvx2EBZJgj",
        "colab_type": "code",
        "colab": {}
      },
      "source": [
        "pred = pred1[0] + pred2[0]"
      ],
      "execution_count": 0,
      "outputs": []
    },
    {
      "cell_type": "code",
      "metadata": {
        "id": "UpzSdmo0ZRuh",
        "colab_type": "code",
        "colab": {}
      },
      "source": [
        "_,argmax = pred.max(-1)"
      ],
      "execution_count": 0,
      "outputs": []
    },
    {
      "cell_type": "code",
      "metadata": {
        "id": "APP6Ku3waEER",
        "colab_type": "code",
        "colab": {}
      },
      "source": [
        "argmax = argmax.numpy()"
      ],
      "execution_count": 0,
      "outputs": []
    },
    {
      "cell_type": "code",
      "metadata": {
        "id": "S4sgEN41aFAt",
        "colab_type": "code",
        "colab": {}
      },
      "source": [
        "labels_test = df_test['label'].tolist()\n",
        "labels_test = np.array(labels_test)"
      ],
      "execution_count": 0,
      "outputs": []
    },
    {
      "cell_type": "code",
      "metadata": {
        "id": "8L8Bibl1aspa",
        "colab_type": "code",
        "colab": {
          "base_uri": "https://localhost:8080/",
          "height": 34
        },
        "outputId": "5475e41e-bc47-4711-b50b-e6fa0db71971"
      },
      "source": [
        "cur = 0\n",
        "for i in range(len(argmax)):\n",
        "    if argmax[i] == labels_test[i]:\n",
        "        cur += 1\n",
        "\n",
        "print(\"Accuracy: %.2f%%\" % ((cur/float(len(labels_test)) * 100)))"
      ],
      "execution_count": 131,
      "outputs": [
        {
          "output_type": "stream",
          "text": [
            "Accuracy: 26.12%\n"
          ],
          "name": "stdout"
        }
      ]
    },
    {
      "cell_type": "code",
      "metadata": {
        "id": "Rsg7lGK_az0F",
        "colab_type": "code",
        "colab": {}
      },
      "source": [
        ""
      ],
      "execution_count": 0,
      "outputs": []
    }
  ]
}